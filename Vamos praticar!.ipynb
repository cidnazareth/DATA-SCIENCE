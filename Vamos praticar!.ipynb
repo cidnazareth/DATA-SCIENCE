{
 "cells": [
  {
   "cell_type": "markdown",
   "metadata": {},
   "source": [
    "** Pra ajudar a reforçar a conteúdo da primeira semana criamos uma pequena lista de exercícios :) **\n",
    "\n",
    "Eles tem grau de dificuldades variados então não se preocupe se achar muito difícil algum; Nós estamos aqui para te ajudar!"
   ]
  },
  {
   "cell_type": "markdown",
   "metadata": {},
   "source": [
    "# Strings"
   ]
  },
  {
   "cell_type": "markdown",
   "metadata": {},
   "source": [
    "Como juntamos os termos \"rio\" \"de\" \"janeiro\"?"
   ]
  },
  {
   "cell_type": "code",
   "execution_count": 74,
   "metadata": {},
   "outputs": [
    {
     "data": {
      "text/plain": [
       "'riodejaneiro'"
      ]
     },
     "execution_count": 74,
     "metadata": {},
     "output_type": "execute_result"
    }
   ],
   "source": [
    "string1 = \"rio\"\n",
    "string2 = \"de\"\n",
    "string3 = \"janeiro\"\n",
    "\n",
    "string1 + string2 + string3"
   ]
  },
  {
   "cell_type": "markdown",
   "metadata": {},
   "source": [
    "Como escrevemos a palavra \"rio\" \"de\" \"janeiro\" com espaço?"
   ]
  },
  {
   "cell_type": "code",
   "execution_count": 76,
   "metadata": {},
   "outputs": [
    {
     "data": {
      "text/plain": [
       "'rio de janeiro'"
      ]
     },
     "execution_count": 76,
     "metadata": {},
     "output_type": "execute_result"
    }
   ],
   "source": [
    "string1 = \"rio\"\n",
    "string2 = \"de\"\n",
    "string3 = \"janeiro\"\n",
    "\n",
    "string1 + \" \" + string2 + \" \" + string3"
   ]
  },
  {
   "cell_type": "markdown",
   "metadata": {},
   "source": [
    "Como juntamos o número 2017 (sem aspas) com a string \"rio\"?"
   ]
  },
  {
   "cell_type": "code",
   "execution_count": 77,
   "metadata": {},
   "outputs": [
    {
     "data": {
      "text/plain": [
       "'2017rio'"
      ]
     },
     "execution_count": 77,
     "metadata": {},
     "output_type": "execute_result"
    }
   ],
   "source": [
    "ano = 2017\n",
    "cidade = \"rio\"\n",
    "\n",
    "str(ano) + cidade"
   ]
  },
  {
   "cell_type": "markdown",
   "metadata": {},
   "source": [
    "Como escrevemos 50 vezes o termo \"sou legal\"?"
   ]
  },
  {
   "cell_type": "code",
   "execution_count": 79,
   "metadata": {},
   "outputs": [
    {
     "data": {
      "text/plain": [
       "'sou legal sou legal sou legal sou legal sou legal sou legal sou legal sou legal sou legal sou legal sou legal sou legal sou legal sou legal sou legal sou legal sou legal sou legal sou legal sou legal sou legal sou legal sou legal sou legal sou legal sou legal sou legal sou legal sou legal sou legal sou legal sou legal sou legal sou legal sou legal sou legal sou legal sou legal sou legal sou legal sou legal sou legal sou legal sou legal sou legal sou legal sou legal sou legal sou legal sou legal '"
      ]
     },
     "execution_count": 79,
     "metadata": {},
     "output_type": "execute_result"
    }
   ],
   "source": [
    "(\"sou legal \") * 50"
   ]
  },
  {
   "cell_type": "markdown",
   "metadata": {},
   "source": [
    "Faça uma função que retorne a primeira letra de cada palavra passada como parametro"
   ]
  },
  {
   "cell_type": "code",
   "execution_count": 81,
   "metadata": {},
   "outputs": [
    {
     "name": "stdout",
     "output_type": "stream",
     "text": [
      "j\n"
     ]
    }
   ],
   "source": [
    "def f_primeira_letra(palavra):\n",
    "    print(palavra[0])\n",
    "\n",
    "primeira_letra(\"jupiter\")"
   ]
  },
  {
   "cell_type": "markdown",
   "metadata": {},
   "source": [
    "Faça uma função que retorne cada palavra separadas por vírgulas"
   ]
  },
  {
   "cell_type": "code",
   "execution_count": 82,
   "metadata": {},
   "outputs": [
    {
     "name": "stdout",
     "output_type": "stream",
     "text": [
      "j,u,p,i,t,e,r\n"
     ]
    }
   ],
   "source": [
    "def f_separa_por_virgula(palavra):\n",
    "    print(\",\".join(palavra))\n",
    "\n",
    "f_separa_por_virgula(\"jupiter\")"
   ]
  },
  {
   "cell_type": "markdown",
   "metadata": {},
   "source": [
    "# Números Inteiros"
   ]
  },
  {
   "cell_type": "markdown",
   "metadata": {},
   "source": [
    "Como eu somo os valores \"1\" e \"2\" (com aspas) tendo como resultado o número 3?"
   ]
  },
  {
   "cell_type": "code",
   "execution_count": 85,
   "metadata": {},
   "outputs": [
    {
     "data": {
      "text/plain": [
       "3"
      ]
     },
     "execution_count": 85,
     "metadata": {},
     "output_type": "execute_result"
    }
   ],
   "source": [
    "primeiro = \"1\"\n",
    "segundo = \"2\"\n",
    "\n",
    "sum(map(int, primeiro+segundo))"
   ]
  },
  {
   "cell_type": "markdown",
   "metadata": {},
   "source": [
    "Qual o resto da divisão entre 3 e 5?"
   ]
  },
  {
   "cell_type": "code",
   "execution_count": 93,
   "metadata": {},
   "outputs": [
    {
     "data": {
      "text/plain": [
       "3"
      ]
     },
     "execution_count": 93,
     "metadata": {},
     "output_type": "execute_result"
    }
   ],
   "source": [
    "tres = 3\n",
    "cinco = 5\n",
    "\n",
    "tres % cinco\n"
   ]
  },
  {
   "cell_type": "markdown",
   "metadata": {},
   "source": [
    "Faça uma função que retorne o próximo número. Exemplo: passamos 5 retorne 6"
   ]
  },
  {
   "cell_type": "code",
   "execution_count": 95,
   "metadata": {},
   "outputs": [
    {
     "name": "stdout",
     "output_type": "stream",
     "text": [
      "11\n"
     ]
    }
   ],
   "source": [
    "def f_proximo_numero(numero):\n",
    "    print(numero+1)\n",
    "    \n",
    "f_proximo_numero(10)"
   ]
  },
  {
   "cell_type": "markdown",
   "metadata": {},
   "source": [
    "# Números Flutuantes"
   ]
  },
  {
   "cell_type": "markdown",
   "metadata": {},
   "source": [
    "Como sei que se esse número é Float?"
   ]
  },
  {
   "cell_type": "code",
   "execution_count": 97,
   "metadata": {},
   "outputs": [
    {
     "data": {
      "text/plain": [
       "float"
      ]
     },
     "execution_count": 97,
     "metadata": {},
     "output_type": "execute_result"
    }
   ],
   "source": [
    "numero = 5.5\n",
    "\n",
    "type(numero)"
   ]
  },
  {
   "cell_type": "markdown",
   "metadata": {},
   "source": [
    "Some os números 0.1 e 0.2"
   ]
  },
  {
   "cell_type": "code",
   "execution_count": 101,
   "metadata": {},
   "outputs": [
    {
     "data": {
      "text/plain": [
       "0.30000000000000004"
      ]
     },
     "execution_count": 101,
     "metadata": {},
     "output_type": "execute_result"
    }
   ],
   "source": [
    "primeiro = 0.1\n",
    "segundo = 0.2\n",
    "\n",
    "primeiro + segundo"
   ]
  },
  {
   "cell_type": "markdown",
   "metadata": {},
   "source": [
    "Faça um função que retorne os números com 3 casas decimais. Exemplo: passamos 3.33333333 retorne 3.333"
   ]
  },
  {
   "cell_type": "code",
   "execution_count": 112,
   "metadata": {},
   "outputs": [
    {
     "name": "stdout",
     "output_type": "stream",
     "text": [
      "3.333\n"
     ]
    }
   ],
   "source": [
    "def f_decimal(nrfloat):\n",
    "    print('{:.3f}'.format(nrfloat))\n",
    "    \n",
    "f_decimal(3.33333333)   "
   ]
  },
  {
   "cell_type": "markdown",
   "metadata": {},
   "source": [
    "# Dicionário"
   ]
  },
  {
   "cell_type": "markdown",
   "metadata": {},
   "source": [
    "Crie um dicionário com \"nome completo\" e \"profissão\" de 5 amigos"
   ]
  },
  {
   "cell_type": "code",
   "execution_count": 180,
   "metadata": {},
   "outputs": [
    {
     "name": "stdout",
     "output_type": "stream",
     "text": [
      "{'nome completo': ['Tarso Lino', 'Ricardo Rodrigues', 'Lourdinha Bassi', 'André Corrêa', 'Evandro Spinola'], 'profissao': ['Empresário', 'Piloto', 'Empresária', 'Empresário', 'Professor']}\n"
     ]
    }
   ],
   "source": [
    "dicionario = {\n",
    "    \"nome completo\": [\"Tarso Lino\",\"Ricardo Rodrigues\",\"Lourdinha Bassi\",\"André Corrêa\",\"Evandro Spinola\"],\n",
    "    \"profissao\": [\"Empresário\",\"Piloto\",\"Empresária\",\"Empresário\",\"Professor\"]\n",
    "}\n",
    "\n",
    "print(dicionario)"
   ]
  },
  {
   "cell_type": "markdown",
   "metadata": {},
   "source": [
    "Coloque nessa lista a idade dessas pessoas"
   ]
  },
  {
   "cell_type": "code",
   "execution_count": 181,
   "metadata": {},
   "outputs": [
    {
     "name": "stdout",
     "output_type": "stream",
     "text": [
      "{'nome completo': ['Tarso Lino', 'Ricardo Rodrigues', 'Lourdinha Bassi', 'André Corrêa', 'Evandro Spinola'], 'profissao': ['Empresário', 'Piloto', 'Empresária', 'Empresário', 'Professor'], 'idade': [45, 49, 52, 48, 49]}\n"
     ]
    }
   ],
   "source": [
    "dicionario[\"idade\"] = [45,49,52,48,49]\n",
    "print(dicionario)"
   ]
  },
  {
   "cell_type": "markdown",
   "metadata": {},
   "source": [
    "Retorne todos os nomes"
   ]
  },
  {
   "cell_type": "code",
   "execution_count": 182,
   "metadata": {},
   "outputs": [
    {
     "data": {
      "text/plain": [
       "['Tarso Lino',\n",
       " 'Ricardo Rodrigues',\n",
       " 'Lourdinha Bassi',\n",
       " 'André Corrêa',\n",
       " 'Evandro Spinola']"
      ]
     },
     "execution_count": 182,
     "metadata": {},
     "output_type": "execute_result"
    }
   ],
   "source": [
    "dicionario[\"nome completo\"]"
   ]
  },
  {
   "cell_type": "markdown",
   "metadata": {},
   "source": [
    "Crie uma nova chave chamada \"primeiro nome\" e pegue da lista de nome completo esse primeiro nome"
   ]
  },
  {
   "cell_type": "code",
   "execution_count": 183,
   "metadata": {},
   "outputs": [
    {
     "name": "stdout",
     "output_type": "stream",
     "text": [
      "{'nome completo': ['Tarso Lino', 'Ricardo Rodrigues', 'Lourdinha Bassi', 'André Corrêa', 'Evandro Spinola'], 'profissao': ['Empresário', 'Piloto', 'Empresária', 'Empresário', 'Professor'], 'idade': [45, 49, 52, 48, 49], 'primeiro nome': ['Tarso', 'Ricardo', 'Lourdinha', 'André', 'Evandro']}\n"
     ]
    }
   ],
   "source": [
    "#Adiciona chave ao dicionário\n",
    "\n",
    "#cria lista\n",
    "primeiro_nome = []\n",
    "for nome_completo in dicionario[\"nome completo\"]:\n",
    "    primeiro_nome.append(nome_completo.split(\" \")[0])\n",
    "    \n",
    "\n",
    "dicionario[\"primeiro nome\"] = primeiro_nome\n",
    "print(dicionario)\n"
   ]
  },
  {
   "cell_type": "markdown",
   "metadata": {},
   "source": [
    "# Listas"
   ]
  },
  {
   "cell_type": "markdown",
   "metadata": {},
   "source": [
    "Crie uma lista com 5 nomes"
   ]
  },
  {
   "cell_type": "code",
   "execution_count": 49,
   "metadata": {
    "collapsed": true
   },
   "outputs": [],
   "source": [
    "nomes = [\"Glória\", \"Marcia\", \"Luiza\", \"Caio\", \"Cid\"]"
   ]
  },
  {
   "cell_type": "markdown",
   "metadata": {},
   "source": [
    "Retorne o segundo nome"
   ]
  },
  {
   "cell_type": "code",
   "execution_count": 50,
   "metadata": {},
   "outputs": [
    {
     "data": {
      "text/plain": [
       "'Marcia'"
      ]
     },
     "execution_count": 50,
     "metadata": {},
     "output_type": "execute_result"
    }
   ],
   "source": [
    "nomes[1]"
   ]
  },
  {
   "cell_type": "markdown",
   "metadata": {},
   "source": [
    "Some todos os valores da lista"
   ]
  },
  {
   "cell_type": "code",
   "execution_count": 60,
   "metadata": {
    "scrolled": true
   },
   "outputs": [
    {
     "name": "stdout",
     "output_type": "stream",
     "text": [
      "27\n"
     ]
    }
   ],
   "source": [
    "lista = [1, 2, 3, 4, 5, \"12\"]\n",
    "soma = 0\n",
    "for item in lista:\n",
    "    soma = soma + int(item)\n",
    "print(soma)    "
   ]
  },
  {
   "cell_type": "markdown",
   "metadata": {},
   "source": [
    "Inverta as posições da lista"
   ]
  },
  {
   "cell_type": "code",
   "execution_count": 69,
   "metadata": {},
   "outputs": [
    {
     "name": "stdout",
     "output_type": "stream",
     "text": [
      "['azul', 'verde', 'laranja', 'amarelo']\n"
     ]
    }
   ],
   "source": [
    "lista = [\"amarelo\", \"laranja\", \"verde\", \"azul\"]\n",
    "\n",
    "lista.reverse()\n",
    "print(lista)"
   ]
  },
  {
   "cell_type": "markdown",
   "metadata": {},
   "source": [
    "Some todos os valores numéricos"
   ]
  },
  {
   "cell_type": "code",
   "execution_count": 63,
   "metadata": {},
   "outputs": [
    {
     "name": "stdout",
     "output_type": "stream",
     "text": [
      "38.23\n"
     ]
    }
   ],
   "source": [
    "lista = [1, 35, \"bootcamp\", 2.23, \"data\"]\n",
    "\n",
    "soma = 0\n",
    "for item in lista:\n",
    "    if (type(item) != str):\n",
    "        soma = soma + item\n",
    "print(soma)"
   ]
  },
  {
   "cell_type": "markdown",
   "metadata": {},
   "source": [
    "Faça uma função que retorne uma lista com 5 valores repetidos a partir de um termo enviado. Exemplo: passamos \"rio\" retorne [\"rio\", \"rio\", \"rio\", \"rio\", \"rio\"]"
   ]
  },
  {
   "cell_type": "code",
   "execution_count": 70,
   "metadata": {},
   "outputs": [
    {
     "name": "stdout",
     "output_type": "stream",
     "text": [
      "['rio', 'rio', 'rio', 'rio', 'rio']\n"
     ]
    }
   ],
   "source": [
    "def f_repete(termo):\n",
    "    print([termo]*5)\n",
    "   \n",
    "f_repete(\"rio\")"
   ]
  },
  {
   "cell_type": "markdown",
   "metadata": {},
   "source": [
    "Ordene a lista do maior para menor"
   ]
  },
  {
   "cell_type": "code",
   "execution_count": 48,
   "metadata": {},
   "outputs": [
    {
     "data": {
      "text/plain": [
       "[5, 4, 2, 1]"
      ]
     },
     "execution_count": 48,
     "metadata": {},
     "output_type": "execute_result"
    }
   ],
   "source": [
    "lista = [1, 2, 5, 4]\n",
    "sorted(lista, reverse=True)"
   ]
  },
  {
   "cell_type": "markdown",
   "metadata": {},
   "source": [
    "# IF"
   ]
  },
  {
   "cell_type": "markdown",
   "metadata": {},
   "source": [
    "Retorne uma lista com os números ímpares"
   ]
  },
  {
   "cell_type": "code",
   "execution_count": 15,
   "metadata": {},
   "outputs": [
    {
     "name": "stdout",
     "output_type": "stream",
     "text": [
      "1\n",
      "11\n",
      "45\n"
     ]
    }
   ],
   "source": [
    "lista = [1, 11, 20, 40, 45, 50]\n",
    "\n",
    "for impar in lista:\n",
    "    if (impar%2) != 0:\n",
    "        print(impar)\n",
    "        "
   ]
  },
  {
   "cell_type": "markdown",
   "metadata": {},
   "source": [
    "Retorne apenas os nomes que começam com \"J\""
   ]
  },
  {
   "cell_type": "code",
   "execution_count": 13,
   "metadata": {},
   "outputs": [
    {
     "name": "stdout",
     "output_type": "stream",
     "text": [
      "joão\n",
      "joaquim\n"
     ]
    }
   ],
   "source": [
    "lista = [\"joão\", \"zeca\", \"pedro\", \"joaquim\"]\n",
    "\n",
    "for comeca_com_jota in lista:\n",
    "    if comeca_com_jota[0:1] == \"j\":\n",
    "        print(comeca_com_jota)\n"
   ]
  },
  {
   "cell_type": "markdown",
   "metadata": {},
   "source": [
    "Retorne apenas as chaves que tem como valor o termo \"bootcamp\""
   ]
  },
  {
   "cell_type": "code",
   "execution_count": 16,
   "metadata": {},
   "outputs": [
    {
     "name": "stdout",
     "output_type": "stream",
     "text": [
      "chave1\n",
      "chave3\n"
     ]
    }
   ],
   "source": [
    "dicionario = {\"chave1\": \"bootcamp\", \"chave2\": \"brasil\", \"chave3\": \"bootcamp\"}\n",
    "\n",
    "for chave in dicionario:\n",
    "    if dicionario[chave] == \"bootcamp\":\n",
    "        print(chave)\n"
   ]
  },
  {
   "cell_type": "markdown",
   "metadata": {
    "collapsed": true
   },
   "source": [
    "Faça uma função que retorne \"ping\" se o número for divisível por 3 e retorne \"pong\" se ele for divisível por 5"
   ]
  },
  {
   "cell_type": "code",
   "execution_count": 36,
   "metadata": {},
   "outputs": [
    {
     "name": "stdout",
     "output_type": "stream",
     "text": [
      "ping\n"
     ]
    }
   ],
   "source": [
    "def f_pingpong(numero):\n",
    "    if (numero % 3) == 0:\n",
    "        print(\"ping\")\n",
    "    if (numero % 5) == 0:\n",
    "        print(\"pong\")\n",
    "        \n",
    "fuc_pingpong(3)"
   ]
  },
  {
   "cell_type": "code",
   "execution_count": 37,
   "metadata": {},
   "outputs": [
    {
     "name": "stdout",
     "output_type": "stream",
     "text": [
      "pong\n"
     ]
    }
   ],
   "source": [
    "fuc_pingpong(5)"
   ]
  }
 ],
 "metadata": {
  "kernelspec": {
   "display_name": "Python 3",
   "language": "python",
   "name": "python3"
  },
  "language_info": {
   "codemirror_mode": {
    "name": "ipython",
    "version": 3
   },
   "file_extension": ".py",
   "mimetype": "text/x-python",
   "name": "python",
   "nbconvert_exporter": "python",
   "pygments_lexer": "ipython3",
   "version": "3.6.3"
  }
 },
 "nbformat": 4,
 "nbformat_minor": 2
}
