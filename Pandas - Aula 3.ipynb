{
 "cells": [
  {
   "cell_type": "markdown",
   "metadata": {
    "hideCode": false,
    "hidePrompt": false
   },
   "source": [
    "# Aula 3\n",
    "\n",
    "**Susana Bouchardet [susana.bouchardet@databootcamp.com.br]**\n",
    "![panda](https://www.writeraccess.com/wp-content/uploads/2014/11/blog-happy-panda.jpg)\n",
    "______\n"
   ]
  },
  {
   "cell_type": "markdown",
   "metadata": {
    "hideCode": false,
    "hidePrompt": false
   },
   "source": [
    " ## 0 - Revisão"
   ]
  },
  {
   "cell_type": "code",
   "execution_count": 1,
   "metadata": {
    "collapsed": true,
    "hideCode": false,
    "hidePrompt": false
   },
   "outputs": [],
   "source": [
    "# carregando os dados\n",
    "import pandas\n",
    "titanic = pandas.read_csv(\"titanic.csv\")"
   ]
  },
  {
   "cell_type": "code",
   "execution_count": 2,
   "metadata": {
    "hideCode": false,
    "hidePrompt": false
   },
   "outputs": [
    {
     "data": {
      "text/html": [
       "<div>\n",
       "<style>\n",
       "    .dataframe thead tr:only-child th {\n",
       "        text-align: right;\n",
       "    }\n",
       "\n",
       "    .dataframe thead th {\n",
       "        text-align: left;\n",
       "    }\n",
       "\n",
       "    .dataframe tbody tr th {\n",
       "        vertical-align: top;\n",
       "    }\n",
       "</style>\n",
       "<table border=\"1\" class=\"dataframe\">\n",
       "  <thead>\n",
       "    <tr style=\"text-align: right;\">\n",
       "      <th></th>\n",
       "      <th>Name</th>\n",
       "      <th>Pclass</th>\n",
       "    </tr>\n",
       "  </thead>\n",
       "  <tbody>\n",
       "    <tr>\n",
       "      <th>10</th>\n",
       "      <td>Sandstrom, Miss. Marguerite Rut</td>\n",
       "      <td>3</td>\n",
       "    </tr>\n",
       "    <tr>\n",
       "      <th>11</th>\n",
       "      <td>Bonnell, Miss. Elizabeth</td>\n",
       "      <td>1</td>\n",
       "    </tr>\n",
       "    <tr>\n",
       "      <th>12</th>\n",
       "      <td>Saundercock, Mr. William Henry</td>\n",
       "      <td>3</td>\n",
       "    </tr>\n",
       "    <tr>\n",
       "      <th>13</th>\n",
       "      <td>Andersson, Mr. Anders Johan</td>\n",
       "      <td>3</td>\n",
       "    </tr>\n",
       "    <tr>\n",
       "      <th>14</th>\n",
       "      <td>Vestrom, Miss. Hulda Amanda Adolfina</td>\n",
       "      <td>3</td>\n",
       "    </tr>\n",
       "    <tr>\n",
       "      <th>15</th>\n",
       "      <td>Hewlett, Mrs. (Mary D Kingcome)</td>\n",
       "      <td>2</td>\n",
       "    </tr>\n",
       "    <tr>\n",
       "      <th>16</th>\n",
       "      <td>Rice, Master. Eugene</td>\n",
       "      <td>3</td>\n",
       "    </tr>\n",
       "    <tr>\n",
       "      <th>17</th>\n",
       "      <td>Williams, Mr. Charles Eugene</td>\n",
       "      <td>2</td>\n",
       "    </tr>\n",
       "    <tr>\n",
       "      <th>18</th>\n",
       "      <td>Vander Planke, Mrs. Julius (Emelia Maria Vande...</td>\n",
       "      <td>3</td>\n",
       "    </tr>\n",
       "    <tr>\n",
       "      <th>19</th>\n",
       "      <td>Masselmani, Mrs. Fatima</td>\n",
       "      <td>3</td>\n",
       "    </tr>\n",
       "    <tr>\n",
       "      <th>20</th>\n",
       "      <td>Fynney, Mr. Joseph J</td>\n",
       "      <td>2</td>\n",
       "    </tr>\n",
       "  </tbody>\n",
       "</table>\n",
       "</div>"
      ],
      "text/plain": [
       "                                                 Name  Pclass\n",
       "10                    Sandstrom, Miss. Marguerite Rut       3\n",
       "11                           Bonnell, Miss. Elizabeth       1\n",
       "12                     Saundercock, Mr. William Henry       3\n",
       "13                        Andersson, Mr. Anders Johan       3\n",
       "14               Vestrom, Miss. Hulda Amanda Adolfina       3\n",
       "15                   Hewlett, Mrs. (Mary D Kingcome)        2\n",
       "16                               Rice, Master. Eugene       3\n",
       "17                       Williams, Mr. Charles Eugene       2\n",
       "18  Vander Planke, Mrs. Julius (Emelia Maria Vande...       3\n",
       "19                            Masselmani, Mrs. Fatima       3\n",
       "20                               Fynney, Mr. Joseph J       2"
      ]
     },
     "execution_count": 2,
     "metadata": {},
     "output_type": "execute_result"
    }
   ],
   "source": [
    "# selecionando subconjunto de dados\n",
    "titanic.loc[10:20,[\"Name\",\"Pclass\"]]"
   ]
  },
  {
   "cell_type": "code",
   "execution_count": 3,
   "metadata": {
    "hideCode": false,
    "hidePrompt": false
   },
   "outputs": [
    {
     "data": {
      "text/plain": [
       "[2.0, 4.0, 14.0, 14.0, 20.0, 27.0, 39.0, 54.0, 55.0, 58.0]"
      ]
     },
     "execution_count": 3,
     "metadata": {},
     "output_type": "execute_result"
    }
   ],
   "source": [
    "# Ordenando uma série\n",
    "idades = titanic.Age[6:16]\n",
    "# usando sorted [Perdemos os índices da série]\n",
    "sorted(idades)"
   ]
  },
  {
   "cell_type": "code",
   "execution_count": 4,
   "metadata": {
    "hideCode": false,
    "hidePrompt": false
   },
   "outputs": [
    {
     "data": {
      "text/plain": [
       "7      2.0\n",
       "10     4.0\n",
       "9     14.0\n",
       "14    14.0\n",
       "12    20.0\n",
       "8     27.0\n",
       "13    39.0\n",
       "6     54.0\n",
       "15    55.0\n",
       "11    58.0\n",
       "Name: Age, dtype: float64"
      ]
     },
     "execution_count": 4,
     "metadata": {},
     "output_type": "execute_result"
    }
   ],
   "source": [
    "# usando sort_values() [mantemos os índices da série] \\o/\n",
    "idades.sort_values()"
   ]
  },
  {
   "cell_type": "code",
   "execution_count": 5,
   "metadata": {
    "hideCode": false,
    "hidePrompt": false
   },
   "outputs": [
    {
     "data": {
      "text/plain": [
       "[58.0, 55.0, 54.0, 39.0, 27.0, 20.0, 14.0, 14.0, 4.0, 2.0]"
      ]
     },
     "execution_count": 5,
     "metadata": {},
     "output_type": "execute_result"
    }
   ],
   "source": [
    "# ordenação decrescente\n",
    "sorted(idades, reverse=True)"
   ]
  },
  {
   "cell_type": "code",
   "execution_count": 6,
   "metadata": {
    "hideCode": false,
    "hidePrompt": false
   },
   "outputs": [
    {
     "data": {
      "text/plain": [
       "11    58.0\n",
       "15    55.0\n",
       "6     54.0\n",
       "13    39.0\n",
       "8     27.0\n",
       "12    20.0\n",
       "14    14.0\n",
       "9     14.0\n",
       "10     4.0\n",
       "7      2.0\n",
       "Name: Age, dtype: float64"
      ]
     },
     "execution_count": 6,
     "metadata": {},
     "output_type": "execute_result"
    }
   ],
   "source": [
    "idades.sort_values(ascending=False)"
   ]
  },
  {
   "cell_type": "code",
   "execution_count": 7,
   "metadata": {
    "hideCode": false,
    "hidePrompt": false
   },
   "outputs": [
    {
     "data": {
      "text/plain": [
       "Index(['PassengerId', 'Survived', 'Pclass', 'Name', 'Sex', 'SibSp', 'Parch',\n",
       "       'Ticket', 'Fare', 'Cabin', 'Embarked'],\n",
       "      dtype='object')"
      ]
     },
     "execution_count": 7,
     "metadata": {},
     "output_type": "execute_result"
    }
   ],
   "source": [
    "# Apagando colunas\n",
    "# usando del\n",
    "titanic1 = titanic.copy()\n",
    "del titanic1[\"Age\"]\n",
    "titanic1.columns"
   ]
  },
  {
   "cell_type": "code",
   "execution_count": 8,
   "metadata": {
    "hideCode": false,
    "hidePrompt": false,
    "scrolled": true
   },
   "outputs": [
    {
     "data": {
      "text/plain": [
       "Index(['PassengerId', 'Survived', 'Pclass', 'Name', 'Sex', 'SibSp', 'Parch',\n",
       "       'Ticket', 'Fare', 'Cabin', 'Embarked'],\n",
       "      dtype='object')"
      ]
     },
     "execution_count": 8,
     "metadata": {},
     "output_type": "execute_result"
    }
   ],
   "source": [
    "# usando drop\n",
    "titanic2 = titanic.drop([\"Age\"],axis=1)\n",
    "titanic2.columns"
   ]
  },
  {
   "cell_type": "code",
   "execution_count": 9,
   "metadata": {
    "hideCode": false,
    "hidePrompt": false
   },
   "outputs": [
    {
     "data": {
      "text/html": [
       "<div>\n",
       "<style>\n",
       "    .dataframe thead tr:only-child th {\n",
       "        text-align: right;\n",
       "    }\n",
       "\n",
       "    .dataframe thead th {\n",
       "        text-align: left;\n",
       "    }\n",
       "\n",
       "    .dataframe tbody tr th {\n",
       "        vertical-align: top;\n",
       "    }\n",
       "</style>\n",
       "<table border=\"1\" class=\"dataframe\">\n",
       "  <thead>\n",
       "    <tr style=\"text-align: right;\">\n",
       "      <th></th>\n",
       "      <th>PassengerId</th>\n",
       "      <th>Survived</th>\n",
       "      <th>Pclass</th>\n",
       "      <th>Name</th>\n",
       "      <th>Sex</th>\n",
       "      <th>Age</th>\n",
       "      <th>SibSp</th>\n",
       "      <th>Parch</th>\n",
       "      <th>Ticket</th>\n",
       "      <th>Fare</th>\n",
       "      <th>Cabin</th>\n",
       "      <th>Embarked</th>\n",
       "    </tr>\n",
       "  </thead>\n",
       "  <tbody>\n",
       "    <tr>\n",
       "      <th>0</th>\n",
       "      <td>1</td>\n",
       "      <td>0</td>\n",
       "      <td>3</td>\n",
       "      <td>Braund, Mr. Owen Harris</td>\n",
       "      <td>male</td>\n",
       "      <td>22.0</td>\n",
       "      <td>1</td>\n",
       "      <td>0</td>\n",
       "      <td>A/5 21171</td>\n",
       "      <td>7.2500</td>\n",
       "      <td>NaN</td>\n",
       "      <td>S</td>\n",
       "    </tr>\n",
       "    <tr>\n",
       "      <th>5</th>\n",
       "      <td>6</td>\n",
       "      <td>0</td>\n",
       "      <td>3</td>\n",
       "      <td>Moran, Mr. James</td>\n",
       "      <td>male</td>\n",
       "      <td>NaN</td>\n",
       "      <td>0</td>\n",
       "      <td>0</td>\n",
       "      <td>330877</td>\n",
       "      <td>8.4583</td>\n",
       "      <td>NaN</td>\n",
       "      <td>Q</td>\n",
       "    </tr>\n",
       "    <tr>\n",
       "      <th>6</th>\n",
       "      <td>7</td>\n",
       "      <td>0</td>\n",
       "      <td>1</td>\n",
       "      <td>McCarthy, Mr. Timothy J</td>\n",
       "      <td>male</td>\n",
       "      <td>54.0</td>\n",
       "      <td>0</td>\n",
       "      <td>0</td>\n",
       "      <td>17463</td>\n",
       "      <td>51.8625</td>\n",
       "      <td>E46</td>\n",
       "      <td>S</td>\n",
       "    </tr>\n",
       "    <tr>\n",
       "      <th>7</th>\n",
       "      <td>8</td>\n",
       "      <td>0</td>\n",
       "      <td>3</td>\n",
       "      <td>Palsson, Master. Gosta Leonard</td>\n",
       "      <td>male</td>\n",
       "      <td>2.0</td>\n",
       "      <td>3</td>\n",
       "      <td>1</td>\n",
       "      <td>349909</td>\n",
       "      <td>21.0750</td>\n",
       "      <td>NaN</td>\n",
       "      <td>S</td>\n",
       "    </tr>\n",
       "    <tr>\n",
       "      <th>8</th>\n",
       "      <td>9</td>\n",
       "      <td>1</td>\n",
       "      <td>3</td>\n",
       "      <td>Johnson, Mrs. Oscar W (Elisabeth Vilhelmina Berg)</td>\n",
       "      <td>female</td>\n",
       "      <td>27.0</td>\n",
       "      <td>0</td>\n",
       "      <td>2</td>\n",
       "      <td>347742</td>\n",
       "      <td>11.1333</td>\n",
       "      <td>NaN</td>\n",
       "      <td>S</td>\n",
       "    </tr>\n",
       "  </tbody>\n",
       "</table>\n",
       "</div>"
      ],
      "text/plain": [
       "   PassengerId  Survived  Pclass  \\\n",
       "0            1         0       3   \n",
       "5            6         0       3   \n",
       "6            7         0       1   \n",
       "7            8         0       3   \n",
       "8            9         1       3   \n",
       "\n",
       "                                                Name     Sex   Age  SibSp  \\\n",
       "0                            Braund, Mr. Owen Harris    male  22.0      1   \n",
       "5                                   Moran, Mr. James    male   NaN      0   \n",
       "6                            McCarthy, Mr. Timothy J    male  54.0      0   \n",
       "7                     Palsson, Master. Gosta Leonard    male   2.0      3   \n",
       "8  Johnson, Mrs. Oscar W (Elisabeth Vilhelmina Berg)  female  27.0      0   \n",
       "\n",
       "   Parch     Ticket     Fare Cabin Embarked  \n",
       "0      0  A/5 21171   7.2500   NaN        S  \n",
       "5      0     330877   8.4583   NaN        Q  \n",
       "6      0      17463  51.8625   E46        S  \n",
       "7      1     349909  21.0750   NaN        S  \n",
       "8      2     347742  11.1333   NaN        S  "
      ]
     },
     "execution_count": 9,
     "metadata": {},
     "output_type": "execute_result"
    }
   ],
   "source": [
    "# o drop também apaga linas\n",
    "titanic3 = titanic.drop([1,2,3,4], axis=0)\n",
    "titanic3.head()"
   ]
  },
  {
   "cell_type": "code",
   "execution_count": 10,
   "metadata": {
    "hideCode": false,
    "hidePrompt": false
   },
   "outputs": [
    {
     "name": "stdout",
     "output_type": "stream",
     "text": [
      "ANTES:\n",
      "  Quantidade de nulos 177;\n",
      "  Tamanho da Série 891\n",
      "DEPOIS:\n",
      "  Quantidadede nulos 0;\n",
      "  Tamanho da Série 714\n"
     ]
    }
   ],
   "source": [
    "# Tratando valores nulos\n",
    "# OBS.: lembrando como contamos os nulos: idades.isnull().sum()\n",
    "\n",
    "idades = titanic.Age\n",
    "print(\"\"\"ANTES:\n",
    "  Quantidade de nulos {};\n",
    "  Tamanho da Série {}\"\"\".format(idades.isnull().sum(), idades.size))\n",
    "\n",
    "# 1. Apagando\n",
    "idades_sem_nulos = idades.dropna()\n",
    "print(\"\"\"DEPOIS:\n",
    "  Quantidadede nulos {};\n",
    "  Tamanho da Série {}\"\"\".format(idades_sem_nulos.isnull().sum(),idades_sem_nulos.size ))\n"
   ]
  },
  {
   "cell_type": "code",
   "execution_count": 11,
   "metadata": {
    "hideCode": false,
    "hidePrompt": false
   },
   "outputs": [
    {
     "name": "stdout",
     "output_type": "stream",
     "text": [
      "DEPOIS:\n",
      "  Quantidadede nulos 0;\n",
      "  Tamanho da Série 891\n"
     ]
    }
   ],
   "source": [
    "# 2. Preenchendo\n",
    "idades_nulos_preenchidos = idades.fillna(-1)\n",
    "print(\"\"\"DEPOIS:\n",
    "  Quantidadede nulos {};\n",
    "  Tamanho da Série {}\"\"\".format(idades_nulos_preenchidos.isnull().sum(),idades_nulos_preenchidos.size ))\n"
   ]
  },
  {
   "cell_type": "code",
   "execution_count": 12,
   "metadata": {
    "hideCode": false,
    "hidePrompt": false
   },
   "outputs": [
    {
     "data": {
      "text/plain": [
       "Sex\n",
       "female    314\n",
       "male      577\n",
       "Name: PassengerId, dtype: int64"
      ]
     },
     "execution_count": 12,
     "metadata": {},
     "output_type": "execute_result"
    }
   ],
   "source": [
    "# Agrupar dados com valores iguais\n",
    "agrupados_por_sexo = titanic.groupby(\"Sex\")[\"PassengerId\"].count()\n",
    "agrupados_por_sexo"
   ]
  },
  {
   "cell_type": "code",
   "execution_count": 13,
   "metadata": {
    "hideCode": false,
    "hidePrompt": false
   },
   "outputs": [
    {
     "data": {
      "text/plain": [
       "Sex\n",
       "female    314\n",
       "male      577\n",
       "dtype: int64"
      ]
     },
     "execution_count": 13,
     "metadata": {},
     "output_type": "execute_result"
    }
   ],
   "source": [
    "# Agrupando usando apply\n",
    "def funcao_agrupamento(valores):\n",
    "    return valores.Sex.size\n",
    "\n",
    "agrupados_por_sexo = titanic.groupby(\"Sex\").apply(funcao_agrupamento)\n",
    "agrupados_por_sexo"
   ]
  },
  {
   "cell_type": "code",
   "execution_count": 14,
   "metadata": {
    "hideCode": false,
    "hidePrompt": false
   },
   "outputs": [
    {
     "data": {
      "text/html": [
       "<div>\n",
       "<style>\n",
       "    .dataframe thead tr:only-child th {\n",
       "        text-align: right;\n",
       "    }\n",
       "\n",
       "    .dataframe thead th {\n",
       "        text-align: left;\n",
       "    }\n",
       "\n",
       "    .dataframe tbody tr th {\n",
       "        vertical-align: top;\n",
       "    }\n",
       "</style>\n",
       "<table border=\"1\" class=\"dataframe\">\n",
       "  <thead>\n",
       "    <tr style=\"text-align: right;\">\n",
       "      <th></th>\n",
       "      <th>counts</th>\n",
       "      <th>freqs</th>\n",
       "    </tr>\n",
       "    <tr>\n",
       "      <th>categories</th>\n",
       "      <th></th>\n",
       "      <th></th>\n",
       "    </tr>\n",
       "  </thead>\n",
       "  <tbody>\n",
       "    <tr>\n",
       "      <th>0</th>\n",
       "      <td>549</td>\n",
       "      <td>0.616162</td>\n",
       "    </tr>\n",
       "    <tr>\n",
       "      <th>1</th>\n",
       "      <td>342</td>\n",
       "      <td>0.383838</td>\n",
       "    </tr>\n",
       "  </tbody>\n",
       "</table>\n",
       "</div>"
      ],
      "text/plain": [
       "            counts     freqs\n",
       "categories                  \n",
       "0              549  0.616162\n",
       "1              342  0.383838"
      ]
     },
     "execution_count": 14,
     "metadata": {},
     "output_type": "execute_result"
    }
   ],
   "source": [
    "# Alguns agrupamentos de valores categóricos (Categórical)\n",
    "categ = pandas.Categorical(titanic[\"Survived\"])\n",
    "categ.describe()"
   ]
  },
  {
   "cell_type": "code",
   "execution_count": 15,
   "metadata": {},
   "outputs": [
    {
     "data": {
      "text/plain": [
       "pandas.core.categorical.Categorical"
      ]
     },
     "execution_count": 15,
     "metadata": {},
     "output_type": "execute_result"
    }
   ],
   "source": [
    "type(categ)"
   ]
  },
  {
   "cell_type": "code",
   "execution_count": 16,
   "metadata": {
    "hideCode": false,
    "hidePrompt": false
   },
   "outputs": [
    {
     "data": {
      "text/html": [
       "<div>\n",
       "<style>\n",
       "    .dataframe thead tr:only-child th {\n",
       "        text-align: right;\n",
       "    }\n",
       "\n",
       "    .dataframe thead th {\n",
       "        text-align: left;\n",
       "    }\n",
       "\n",
       "    .dataframe tbody tr th {\n",
       "        vertical-align: top;\n",
       "    }\n",
       "</style>\n",
       "<table border=\"1\" class=\"dataframe\">\n",
       "  <thead>\n",
       "    <tr style=\"text-align: right;\">\n",
       "      <th></th>\n",
       "      <th>counts</th>\n",
       "      <th>freqs</th>\n",
       "    </tr>\n",
       "    <tr>\n",
       "      <th>categories</th>\n",
       "      <th></th>\n",
       "      <th></th>\n",
       "    </tr>\n",
       "  </thead>\n",
       "  <tbody>\n",
       "    <tr>\n",
       "      <th>Morreu</th>\n",
       "      <td>549</td>\n",
       "      <td>0.616162</td>\n",
       "    </tr>\n",
       "    <tr>\n",
       "      <th>Sobreviveu</th>\n",
       "      <td>342</td>\n",
       "      <td>0.383838</td>\n",
       "    </tr>\n",
       "  </tbody>\n",
       "</table>\n",
       "</div>"
      ],
      "text/plain": [
       "            counts     freqs\n",
       "categories                  \n",
       "Morreu         549  0.616162\n",
       "Sobreviveu     342  0.383838"
      ]
     },
     "execution_count": 16,
     "metadata": {},
     "output_type": "execute_result"
    }
   ],
   "source": [
    "# usando o categorical\n",
    "categ_renomeado = categ.rename_categories([\"Morreu\",\"Sobreviveu\"])\n",
    "categ_renomeado.describe()"
   ]
  },
  {
   "cell_type": "markdown",
   "metadata": {
    "hideCode": false,
    "hidePrompt": false
   },
   "source": [
    "## 1 - Tranformar contínuos em categóricos\n",
    "\n",
    "Já fizemos isso com o apply, __Mas existe um modo mais simples__\n",
    "\n",
    "usando o `cut`\n",
    "\n",
    "vamos transformar os dados de Idade em categóricos novamente, mas usando o `cut`"
   ]
  },
  {
   "cell_type": "code",
   "execution_count": 17,
   "metadata": {
    "hideCode": false,
    "hidePrompt": false
   },
   "outputs": [
    {
     "data": {
      "text/plain": [
       "0    adulto\n",
       "1    adulto\n",
       "2    adulto\n",
       "3    adulto\n",
       "4    adulto\n",
       "Name: Age, dtype: category\n",
       "Categories (4, object): [criança < adolescente < adulto < idoso]"
      ]
     },
     "execution_count": 17,
     "metadata": {},
     "output_type": "execute_result"
    }
   ],
   "source": [
    "\n",
    "ranges = [titanic.Age.min()-1,10,18,40,titanic.Age.max()]\n",
    "label = [\"criança\",\"adolescente\",\"adulto\",\"idoso\"]\n",
    "\n",
    "serie_faixa_etaria = pandas.cut(titanic.Age,ranges,labels=label)\n",
    "serie_faixa_etaria.head()"
   ]
  },
  {
   "cell_type": "markdown",
   "metadata": {
    "hideCode": false,
    "hidePrompt": false
   },
   "source": [
    "O range são os valores que delimitam os intervalos.\n",
    "Nesse caso as regras são\n",
    "- criança:<br>\n",
    "    $idade_{minima}-1 < idade \\leqslant 10$\n",
    "    \n",
    "    \n",
    "- adolescente:<br>\n",
    "    $10 < idade \\leqslant 18$\n",
    "    \n",
    "    \n",
    "- adulto:<br>\n",
    "    $18 < idade \\leqslant 40$\n",
    "    \n",
    "    \n",
    "- idoso:<br>\n",
    "    $40 < idade \\leqslant idade_{maxima}$\n",
    "\n",
    "\n",
    "Vamos agora fazer a análise categórica desses valores."
   ]
  },
  {
   "cell_type": "code",
   "execution_count": 18,
   "metadata": {
    "hideCode": false,
    "hidePrompt": false,
    "scrolled": true
   },
   "outputs": [
    {
     "data": {
      "text/html": [
       "<div>\n",
       "<style>\n",
       "    .dataframe thead tr:only-child th {\n",
       "        text-align: right;\n",
       "    }\n",
       "\n",
       "    .dataframe thead th {\n",
       "        text-align: left;\n",
       "    }\n",
       "\n",
       "    .dataframe tbody tr th {\n",
       "        vertical-align: top;\n",
       "    }\n",
       "</style>\n",
       "<table border=\"1\" class=\"dataframe\">\n",
       "  <thead>\n",
       "    <tr style=\"text-align: right;\">\n",
       "      <th></th>\n",
       "      <th>counts</th>\n",
       "      <th>freqs</th>\n",
       "    </tr>\n",
       "    <tr>\n",
       "      <th>categories</th>\n",
       "      <th></th>\n",
       "      <th></th>\n",
       "    </tr>\n",
       "  </thead>\n",
       "  <tbody>\n",
       "    <tr>\n",
       "      <th>criança</th>\n",
       "      <td>64</td>\n",
       "      <td>0.071829</td>\n",
       "    </tr>\n",
       "    <tr>\n",
       "      <th>adolescente</th>\n",
       "      <td>75</td>\n",
       "      <td>0.084175</td>\n",
       "    </tr>\n",
       "    <tr>\n",
       "      <th>adulto</th>\n",
       "      <td>425</td>\n",
       "      <td>0.476992</td>\n",
       "    </tr>\n",
       "    <tr>\n",
       "      <th>idoso</th>\n",
       "      <td>150</td>\n",
       "      <td>0.168350</td>\n",
       "    </tr>\n",
       "    <tr>\n",
       "      <th>NaN</th>\n",
       "      <td>177</td>\n",
       "      <td>0.198653</td>\n",
       "    </tr>\n",
       "  </tbody>\n",
       "</table>\n",
       "</div>"
      ],
      "text/plain": [
       "             counts     freqs\n",
       "categories                   \n",
       "criança          64  0.071829\n",
       "adolescente      75  0.084175\n",
       "adulto          425  0.476992\n",
       "idoso           150  0.168350\n",
       "NaN             177  0.198653"
      ]
     },
     "execution_count": 18,
     "metadata": {},
     "output_type": "execute_result"
    }
   ],
   "source": [
    "# Criando a coluna FaixaDeIdade\n",
    "titanic[\"FaixaDeIdade\"] = serie_faixa_etaria\n",
    "\n",
    "# Criando a analise categórica\n",
    "categ = pandas.Categorical(titanic[\"FaixaDeIdade\"])\n",
    "categ.describe()"
   ]
  },
  {
   "cell_type": "markdown",
   "metadata": {
    "hideCode": false,
    "hidePrompt": false
   },
   "source": [
    "Se não quisermos explicitar os intervalos, podemos dividir em $n$ grupos com intervalor iguals"
   ]
  },
  {
   "cell_type": "code",
   "execution_count": 19,
   "metadata": {
    "hideCode": false,
    "hidePrompt": false,
    "scrolled": true
   },
   "outputs": [
    {
     "data": {
      "text/plain": [
       "0    (20.315, 40.21]\n",
       "1    (20.315, 40.21]\n",
       "2    (20.315, 40.21]\n",
       "3    (20.315, 40.21]\n",
       "4    (20.315, 40.21]\n",
       "5                NaN\n",
       "6    (40.21, 60.105]\n",
       "7     (0.34, 20.315]\n",
       "8    (20.315, 40.21]\n",
       "9     (0.34, 20.315]\n",
       "Name: Age, dtype: category\n",
       "Categories (4, interval[float64]): [(0.34, 20.315] < (20.315, 40.21] < (40.21, 60.105] < (60.105, 80.0]]"
      ]
     },
     "execution_count": 19,
     "metadata": {},
     "output_type": "execute_result"
    }
   ],
   "source": [
    "pandas.cut(titanic.Age,bins=4).head(10)"
   ]
  },
  {
   "cell_type": "markdown",
   "metadata": {
    "hideCode": false,
    "hidePrompt": false
   },
   "source": [
    "<span style=\"color:blue\">__Vamos transformar Fare em um segmento também?__ </span>"
   ]
  },
  {
   "cell_type": "code",
   "execution_count": null,
   "metadata": {
    "collapsed": true,
    "hideCode": false,
    "hidePrompt": false
   },
   "outputs": [],
   "source": []
  },
  {
   "cell_type": "code",
   "execution_count": null,
   "metadata": {
    "collapsed": true,
    "hideCode": false,
    "hidePrompt": false
   },
   "outputs": [],
   "source": []
  },
  {
   "cell_type": "code",
   "execution_count": null,
   "metadata": {
    "collapsed": true,
    "hideCode": false,
    "hidePrompt": false
   },
   "outputs": [],
   "source": []
  },
  {
   "cell_type": "code",
   "execution_count": 20,
   "metadata": {},
   "outputs": [
    {
     "data": {
      "text/html": [
       "<div>\n",
       "<style>\n",
       "    .dataframe thead tr:only-child th {\n",
       "        text-align: right;\n",
       "    }\n",
       "\n",
       "    .dataframe thead th {\n",
       "        text-align: left;\n",
       "    }\n",
       "\n",
       "    .dataframe tbody tr th {\n",
       "        vertical-align: top;\n",
       "    }\n",
       "</style>\n",
       "<table border=\"1\" class=\"dataframe\">\n",
       "  <thead>\n",
       "    <tr style=\"text-align: right;\">\n",
       "      <th></th>\n",
       "      <th>counts</th>\n",
       "      <th>freqs</th>\n",
       "    </tr>\n",
       "    <tr>\n",
       "      <th>categories</th>\n",
       "      <th></th>\n",
       "      <th></th>\n",
       "    </tr>\n",
       "  </thead>\n",
       "  <tbody>\n",
       "    <tr>\n",
       "      <th>(-0.512, 102.466]</th>\n",
       "      <td>838</td>\n",
       "      <td>0.940516</td>\n",
       "    </tr>\n",
       "    <tr>\n",
       "      <th>(102.466, 204.932]</th>\n",
       "      <td>33</td>\n",
       "      <td>0.037037</td>\n",
       "    </tr>\n",
       "    <tr>\n",
       "      <th>(204.932, 307.398]</th>\n",
       "      <td>17</td>\n",
       "      <td>0.019080</td>\n",
       "    </tr>\n",
       "    <tr>\n",
       "      <th>(307.398, 409.863]</th>\n",
       "      <td>0</td>\n",
       "      <td>0.000000</td>\n",
       "    </tr>\n",
       "    <tr>\n",
       "      <th>(409.863, 512.329]</th>\n",
       "      <td>3</td>\n",
       "      <td>0.003367</td>\n",
       "    </tr>\n",
       "  </tbody>\n",
       "</table>\n",
       "</div>"
      ],
      "text/plain": [
       "                    counts     freqs\n",
       "categories                          \n",
       "(-0.512, 102.466]      838  0.940516\n",
       "(102.466, 204.932]      33  0.037037\n",
       "(204.932, 307.398]      17  0.019080\n",
       "(307.398, 409.863]       0  0.000000\n",
       "(409.863, 512.329]       3  0.003367"
      ]
     },
     "execution_count": 20,
     "metadata": {},
     "output_type": "execute_result"
    }
   ],
   "source": [
    "result = pandas.cut(titanic.Fare, bins = 5)\n",
    "cat = pandas.Categorical(result)\n",
    "cat.describe()"
   ]
  },
  {
   "cell_type": "markdown",
   "metadata": {
    "hideCode": false,
    "hidePrompt": false
   },
   "source": [
    "## 2 - Transformando Séries do tipo _String_\n",
    "\n",
    "Podemos tratar as Strings fazendo um _apply_...\n",
    "\n",
    "__mas existe uma maneira mais simples para aplicar algumas tranformações!__\n",
    "\n",
    "Vamos começar com uma tranformação simples: retirar as vírgulas\n",
    "\n",
    "### 2.1 - _replace_ na série"
   ]
  },
  {
   "cell_type": "code",
   "execution_count": 21,
   "metadata": {
    "hideCode": false,
    "hidePrompt": false,
    "scrolled": true
   },
   "outputs": [
    {
     "data": {
      "text/plain": [
       "0                               Braund Mr. Owen Harris\n",
       "1    Cumings Mrs. John Bradley (Florence Briggs Tha...\n",
       "2                                Heikkinen Miss. Laina\n",
       "3          Futrelle Mrs. Jacques Heath (Lily May Peel)\n",
       "4                              Allen Mr. William Henry\n",
       "Name: Name, dtype: object"
      ]
     },
     "execution_count": 21,
     "metadata": {},
     "output_type": "execute_result"
    }
   ],
   "source": [
    "# Objetivo \n",
    "#  Braund, Mr. Owen Harris => Braund Mr. Owen Harris\n",
    "nomes_sem_virgula = titanic.Name.str.replace(\",\",\"\")\n",
    "nomes_sem_virgula.head()"
   ]
  },
  {
   "cell_type": "markdown",
   "metadata": {
    "hideCode": false,
    "hidePrompt": false
   },
   "source": [
    "### 2.1 - _split_ na série\n",
    "Agora vamos deixar apenas o sobrenome"
   ]
  },
  {
   "cell_type": "code",
   "execution_count": 22,
   "metadata": {
    "hideCode": false,
    "hidePrompt": false
   },
   "outputs": [
    {
     "data": {
      "text/plain": [
       "pandas.core.series.Series"
      ]
     },
     "execution_count": 22,
     "metadata": {},
     "output_type": "execute_result"
    }
   ],
   "source": [
    "# Split por , e tranformar o resultado em um Dataframe\n",
    "serie_nome_dividido = titanic.Name.str.split(\",\")\n",
    "type(serie_nome_dividido)"
   ]
  },
  {
   "cell_type": "code",
   "execution_count": 23,
   "metadata": {
    "hideCode": false,
    "hidePrompt": false
   },
   "outputs": [
    {
     "data": {
      "text/plain": [
       "0                           [Braund,  Mr. Owen Harris]\n",
       "1    [Cumings,  Mrs. John Bradley (Florence Briggs ...\n",
       "2                            [Heikkinen,  Miss. Laina]\n",
       "3      [Futrelle,  Mrs. Jacques Heath (Lily May Peel)]\n",
       "4                          [Allen,  Mr. William Henry]\n",
       "Name: Name, dtype: object"
      ]
     },
     "execution_count": 23,
     "metadata": {},
     "output_type": "execute_result"
    }
   ],
   "source": [
    "serie_nome_dividido.head()"
   ]
  },
  {
   "cell_type": "markdown",
   "metadata": {
    "hideCode": false,
    "hidePrompt": false
   },
   "source": [
    "Ficamos com uma __série de listas__.\n",
    "Como pegamos o primeiro valor dessa lista agora?\n",
    "\n",
    "Só conseguimos fazer isso com __apply__.\n",
    "\n",
    "Uma Série de listas com tamanhos iguais faz sentido ser interpretada como um dataframe!"
   ]
  },
  {
   "cell_type": "code",
   "execution_count": 24,
   "metadata": {
    "hideCode": false,
    "hidePrompt": false,
    "scrolled": true
   },
   "outputs": [
    {
     "data": {
      "text/plain": [
       "pandas.core.frame.DataFrame"
      ]
     },
     "execution_count": 24,
     "metadata": {},
     "output_type": "execute_result"
    }
   ],
   "source": [
    "dataframe_nome_dividido = titanic.Name.str.split(\",\", expand=True)\n",
    "type(dataframe_nome_dividido)"
   ]
  },
  {
   "cell_type": "code",
   "execution_count": 25,
   "metadata": {
    "hideCode": false,
    "hidePrompt": false,
    "scrolled": true
   },
   "outputs": [
    {
     "data": {
      "text/html": [
       "<div>\n",
       "<style>\n",
       "    .dataframe thead tr:only-child th {\n",
       "        text-align: right;\n",
       "    }\n",
       "\n",
       "    .dataframe thead th {\n",
       "        text-align: left;\n",
       "    }\n",
       "\n",
       "    .dataframe tbody tr th {\n",
       "        vertical-align: top;\n",
       "    }\n",
       "</style>\n",
       "<table border=\"1\" class=\"dataframe\">\n",
       "  <thead>\n",
       "    <tr style=\"text-align: right;\">\n",
       "      <th></th>\n",
       "      <th>0</th>\n",
       "      <th>1</th>\n",
       "    </tr>\n",
       "  </thead>\n",
       "  <tbody>\n",
       "    <tr>\n",
       "      <th>0</th>\n",
       "      <td>Braund</td>\n",
       "      <td>Mr. Owen Harris</td>\n",
       "    </tr>\n",
       "    <tr>\n",
       "      <th>1</th>\n",
       "      <td>Cumings</td>\n",
       "      <td>Mrs. John Bradley (Florence Briggs Thayer)</td>\n",
       "    </tr>\n",
       "    <tr>\n",
       "      <th>2</th>\n",
       "      <td>Heikkinen</td>\n",
       "      <td>Miss. Laina</td>\n",
       "    </tr>\n",
       "    <tr>\n",
       "      <th>3</th>\n",
       "      <td>Futrelle</td>\n",
       "      <td>Mrs. Jacques Heath (Lily May Peel)</td>\n",
       "    </tr>\n",
       "    <tr>\n",
       "      <th>4</th>\n",
       "      <td>Allen</td>\n",
       "      <td>Mr. William Henry</td>\n",
       "    </tr>\n",
       "  </tbody>\n",
       "</table>\n",
       "</div>"
      ],
      "text/plain": [
       "           0                                            1\n",
       "0     Braund                              Mr. Owen Harris\n",
       "1    Cumings   Mrs. John Bradley (Florence Briggs Thayer)\n",
       "2  Heikkinen                                  Miss. Laina\n",
       "3   Futrelle           Mrs. Jacques Heath (Lily May Peel)\n",
       "4      Allen                            Mr. William Henry"
      ]
     },
     "execution_count": 25,
     "metadata": {},
     "output_type": "execute_result"
    }
   ],
   "source": [
    "dataframe_nome_dividido.head()"
   ]
  },
  {
   "cell_type": "code",
   "execution_count": 26,
   "metadata": {
    "hideCode": false,
    "hidePrompt": false
   },
   "outputs": [
    {
     "data": {
      "text/plain": [
       "0       Braund\n",
       "1      Cumings\n",
       "2    Heikkinen\n",
       "3     Futrelle\n",
       "4        Allen\n",
       "Name: 0, dtype: object"
      ]
     },
     "execution_count": 26,
     "metadata": {},
     "output_type": "execute_result"
    }
   ],
   "source": [
    "dataframe_nome_dividido[0].head()"
   ]
  },
  {
   "cell_type": "markdown",
   "metadata": {
    "hideCode": false,
    "hidePrompt": false
   },
   "source": [
    "Com o resultado, agora podemos criar uma coluna _Sobrenome_"
   ]
  },
  {
   "cell_type": "code",
   "execution_count": 27,
   "metadata": {
    "collapsed": true,
    "hideCode": false,
    "hidePrompt": false
   },
   "outputs": [],
   "source": [
    "titanic[\"Sobrenome\"] = dataframe_nome_dividido[0]"
   ]
  },
  {
   "cell_type": "code",
   "execution_count": 28,
   "metadata": {
    "hideCode": false,
    "hidePrompt": false
   },
   "outputs": [
    {
     "data": {
      "text/html": [
       "<div>\n",
       "<style>\n",
       "    .dataframe thead tr:only-child th {\n",
       "        text-align: right;\n",
       "    }\n",
       "\n",
       "    .dataframe thead th {\n",
       "        text-align: left;\n",
       "    }\n",
       "\n",
       "    .dataframe tbody tr th {\n",
       "        vertical-align: top;\n",
       "    }\n",
       "</style>\n",
       "<table border=\"1\" class=\"dataframe\">\n",
       "  <thead>\n",
       "    <tr style=\"text-align: right;\">\n",
       "      <th></th>\n",
       "      <th>PassengerId</th>\n",
       "      <th>Survived</th>\n",
       "      <th>Pclass</th>\n",
       "      <th>Name</th>\n",
       "      <th>Sex</th>\n",
       "      <th>Age</th>\n",
       "      <th>SibSp</th>\n",
       "      <th>Parch</th>\n",
       "      <th>Ticket</th>\n",
       "      <th>Fare</th>\n",
       "      <th>Cabin</th>\n",
       "      <th>Embarked</th>\n",
       "      <th>FaixaDeIdade</th>\n",
       "      <th>Sobrenome</th>\n",
       "    </tr>\n",
       "  </thead>\n",
       "  <tbody>\n",
       "    <tr>\n",
       "      <th>0</th>\n",
       "      <td>1</td>\n",
       "      <td>0</td>\n",
       "      <td>3</td>\n",
       "      <td>Braund, Mr. Owen Harris</td>\n",
       "      <td>male</td>\n",
       "      <td>22.0</td>\n",
       "      <td>1</td>\n",
       "      <td>0</td>\n",
       "      <td>A/5 21171</td>\n",
       "      <td>7.2500</td>\n",
       "      <td>NaN</td>\n",
       "      <td>S</td>\n",
       "      <td>adulto</td>\n",
       "      <td>Braund</td>\n",
       "    </tr>\n",
       "    <tr>\n",
       "      <th>1</th>\n",
       "      <td>2</td>\n",
       "      <td>1</td>\n",
       "      <td>1</td>\n",
       "      <td>Cumings, Mrs. John Bradley (Florence Briggs Th...</td>\n",
       "      <td>female</td>\n",
       "      <td>38.0</td>\n",
       "      <td>1</td>\n",
       "      <td>0</td>\n",
       "      <td>PC 17599</td>\n",
       "      <td>71.2833</td>\n",
       "      <td>C85</td>\n",
       "      <td>C</td>\n",
       "      <td>adulto</td>\n",
       "      <td>Cumings</td>\n",
       "    </tr>\n",
       "    <tr>\n",
       "      <th>2</th>\n",
       "      <td>3</td>\n",
       "      <td>1</td>\n",
       "      <td>3</td>\n",
       "      <td>Heikkinen, Miss. Laina</td>\n",
       "      <td>female</td>\n",
       "      <td>26.0</td>\n",
       "      <td>0</td>\n",
       "      <td>0</td>\n",
       "      <td>STON/O2. 3101282</td>\n",
       "      <td>7.9250</td>\n",
       "      <td>NaN</td>\n",
       "      <td>S</td>\n",
       "      <td>adulto</td>\n",
       "      <td>Heikkinen</td>\n",
       "    </tr>\n",
       "    <tr>\n",
       "      <th>3</th>\n",
       "      <td>4</td>\n",
       "      <td>1</td>\n",
       "      <td>1</td>\n",
       "      <td>Futrelle, Mrs. Jacques Heath (Lily May Peel)</td>\n",
       "      <td>female</td>\n",
       "      <td>35.0</td>\n",
       "      <td>1</td>\n",
       "      <td>0</td>\n",
       "      <td>113803</td>\n",
       "      <td>53.1000</td>\n",
       "      <td>C123</td>\n",
       "      <td>S</td>\n",
       "      <td>adulto</td>\n",
       "      <td>Futrelle</td>\n",
       "    </tr>\n",
       "    <tr>\n",
       "      <th>4</th>\n",
       "      <td>5</td>\n",
       "      <td>0</td>\n",
       "      <td>3</td>\n",
       "      <td>Allen, Mr. William Henry</td>\n",
       "      <td>male</td>\n",
       "      <td>35.0</td>\n",
       "      <td>0</td>\n",
       "      <td>0</td>\n",
       "      <td>373450</td>\n",
       "      <td>8.0500</td>\n",
       "      <td>NaN</td>\n",
       "      <td>S</td>\n",
       "      <td>adulto</td>\n",
       "      <td>Allen</td>\n",
       "    </tr>\n",
       "  </tbody>\n",
       "</table>\n",
       "</div>"
      ],
      "text/plain": [
       "   PassengerId  Survived  Pclass  \\\n",
       "0            1         0       3   \n",
       "1            2         1       1   \n",
       "2            3         1       3   \n",
       "3            4         1       1   \n",
       "4            5         0       3   \n",
       "\n",
       "                                                Name     Sex   Age  SibSp  \\\n",
       "0                            Braund, Mr. Owen Harris    male  22.0      1   \n",
       "1  Cumings, Mrs. John Bradley (Florence Briggs Th...  female  38.0      1   \n",
       "2                             Heikkinen, Miss. Laina  female  26.0      0   \n",
       "3       Futrelle, Mrs. Jacques Heath (Lily May Peel)  female  35.0      1   \n",
       "4                           Allen, Mr. William Henry    male  35.0      0   \n",
       "\n",
       "   Parch            Ticket     Fare Cabin Embarked FaixaDeIdade  Sobrenome  \n",
       "0      0         A/5 21171   7.2500   NaN        S       adulto     Braund  \n",
       "1      0          PC 17599  71.2833   C85        C       adulto    Cumings  \n",
       "2      0  STON/O2. 3101282   7.9250   NaN        S       adulto  Heikkinen  \n",
       "3      0            113803  53.1000  C123        S       adulto   Futrelle  \n",
       "4      0            373450   8.0500   NaN        S       adulto      Allen  "
      ]
     },
     "execution_count": 28,
     "metadata": {},
     "output_type": "execute_result"
    }
   ],
   "source": [
    "titanic.head()"
   ]
  },
  {
   "cell_type": "markdown",
   "metadata": {
    "hideCode": false,
    "hidePrompt": false
   },
   "source": [
    "__E se as listas da série não tiverem tamanhos iguais?__\n",
    "\n",
    "A diferença se tranforma em valor nulo!"
   ]
  },
  {
   "cell_type": "code",
   "execution_count": 29,
   "metadata": {
    "hideCode": false,
    "hidePrompt": false
   },
   "outputs": [
    {
     "data": {
      "text/html": [
       "<div>\n",
       "<style>\n",
       "    .dataframe thead tr:only-child th {\n",
       "        text-align: right;\n",
       "    }\n",
       "\n",
       "    .dataframe thead th {\n",
       "        text-align: left;\n",
       "    }\n",
       "\n",
       "    .dataframe tbody tr th {\n",
       "        vertical-align: top;\n",
       "    }\n",
       "</style>\n",
       "<table border=\"1\" class=\"dataframe\">\n",
       "  <thead>\n",
       "    <tr style=\"text-align: right;\">\n",
       "      <th></th>\n",
       "      <th>0</th>\n",
       "      <th>1</th>\n",
       "      <th>2</th>\n",
       "    </tr>\n",
       "  </thead>\n",
       "  <tbody>\n",
       "    <tr>\n",
       "      <th>0</th>\n",
       "      <td>Braund, Mr. Owen Harris</td>\n",
       "      <td>None</td>\n",
       "      <td>None</td>\n",
       "    </tr>\n",
       "    <tr>\n",
       "      <th>1</th>\n",
       "      <td>Cumings, Mrs. John Bradley</td>\n",
       "      <td>Florence Briggs Thayer)</td>\n",
       "      <td>None</td>\n",
       "    </tr>\n",
       "    <tr>\n",
       "      <th>2</th>\n",
       "      <td>Heikkinen, Miss. Laina</td>\n",
       "      <td>None</td>\n",
       "      <td>None</td>\n",
       "    </tr>\n",
       "    <tr>\n",
       "      <th>3</th>\n",
       "      <td>Futrelle, Mrs. Jacques Heath</td>\n",
       "      <td>Lily May Peel)</td>\n",
       "      <td>None</td>\n",
       "    </tr>\n",
       "    <tr>\n",
       "      <th>4</th>\n",
       "      <td>Allen, Mr. William Henry</td>\n",
       "      <td>None</td>\n",
       "      <td>None</td>\n",
       "    </tr>\n",
       "  </tbody>\n",
       "</table>\n",
       "</div>"
      ],
      "text/plain": [
       "                               0                        1     2\n",
       "0        Braund, Mr. Owen Harris                     None  None\n",
       "1    Cumings, Mrs. John Bradley   Florence Briggs Thayer)  None\n",
       "2         Heikkinen, Miss. Laina                     None  None\n",
       "3  Futrelle, Mrs. Jacques Heath            Lily May Peel)  None\n",
       "4       Allen, Mr. William Henry                     None  None"
      ]
     },
     "execution_count": 29,
     "metadata": {},
     "output_type": "execute_result"
    }
   ],
   "source": [
    "# A diferença se tranforma em valor nulo\n",
    "dataframe_nome_dividido_diferente = titanic.Name.str.split(\"(\", expand=True)\n",
    "dataframe_nome_dividido_diferente.head()"
   ]
  },
  {
   "cell_type": "markdown",
   "metadata": {
    "hideCode": false,
    "hidePrompt": false
   },
   "source": [
    "<span style=\"color:blue\">__Vamos agora criar uma coluna que contenha o nome das mulheres (Nome entre parênteses)__</span>"
   ]
  },
  {
   "cell_type": "code",
   "execution_count": null,
   "metadata": {
    "collapsed": true,
    "hideCode": false,
    "hidePrompt": false
   },
   "outputs": [],
   "source": []
  },
  {
   "cell_type": "code",
   "execution_count": null,
   "metadata": {
    "collapsed": true,
    "hideCode": false,
    "hidePrompt": false
   },
   "outputs": [],
   "source": []
  },
  {
   "cell_type": "code",
   "execution_count": null,
   "metadata": {
    "collapsed": true,
    "hideCode": false,
    "hidePrompt": false
   },
   "outputs": [],
   "source": []
  },
  {
   "cell_type": "code",
   "execution_count": null,
   "metadata": {
    "collapsed": true,
    "hideCode": false,
    "hidePrompt": false
   },
   "outputs": [],
   "source": []
  },
  {
   "cell_type": "code",
   "execution_count": 30,
   "metadata": {
    "hideCode": false,
    "hidePrompt": false
   },
   "outputs": [
    {
     "data": {
      "text/plain": [
       "0                      None\n",
       "1    Florence Briggs Thayer\n",
       "2                      None\n",
       "3             Lily May Peel\n",
       "4                      None\n",
       "Name: 1, dtype: object"
      ]
     },
     "execution_count": 30,
     "metadata": {},
     "output_type": "execute_result"
    }
   ],
   "source": [
    "# Split por \"(\" para pegar o nome da mulher\n",
    "dataframe_nome_dividido_mulheres_1 = titanic.Name.str.split(\"(\", expand=True)\n",
    "\n",
    "# replace de \")\" por \"\" para remover o final do parentese no campo\n",
    "dataframe_nome_dividido_mulheres_2 = dataframe_nome_dividido_mulheres_1[1].str.replace(\")\",\"\")\n",
    "\n",
    "dataframe_nome_dividido_mulheres_2.head()"
   ]
  },
  {
   "cell_type": "code",
   "execution_count": 31,
   "metadata": {
    "hideCode": false,
    "hidePrompt": false,
    "scrolled": true
   },
   "outputs": [
    {
     "data": {
      "text/html": [
       "<div>\n",
       "<style>\n",
       "    .dataframe thead tr:only-child th {\n",
       "        text-align: right;\n",
       "    }\n",
       "\n",
       "    .dataframe thead th {\n",
       "        text-align: left;\n",
       "    }\n",
       "\n",
       "    .dataframe tbody tr th {\n",
       "        vertical-align: top;\n",
       "    }\n",
       "</style>\n",
       "<table border=\"1\" class=\"dataframe\">\n",
       "  <thead>\n",
       "    <tr style=\"text-align: right;\">\n",
       "      <th></th>\n",
       "      <th>Name</th>\n",
       "      <th>NomeMulher</th>\n",
       "    </tr>\n",
       "  </thead>\n",
       "  <tbody>\n",
       "    <tr>\n",
       "      <th>0</th>\n",
       "      <td>Braund, Mr. Owen Harris</td>\n",
       "      <td>None</td>\n",
       "    </tr>\n",
       "    <tr>\n",
       "      <th>1</th>\n",
       "      <td>Cumings, Mrs. John Bradley (Florence Briggs Th...</td>\n",
       "      <td>Florence Briggs Thayer</td>\n",
       "    </tr>\n",
       "    <tr>\n",
       "      <th>2</th>\n",
       "      <td>Heikkinen, Miss. Laina</td>\n",
       "      <td>None</td>\n",
       "    </tr>\n",
       "    <tr>\n",
       "      <th>3</th>\n",
       "      <td>Futrelle, Mrs. Jacques Heath (Lily May Peel)</td>\n",
       "      <td>Lily May Peel</td>\n",
       "    </tr>\n",
       "    <tr>\n",
       "      <th>4</th>\n",
       "      <td>Allen, Mr. William Henry</td>\n",
       "      <td>None</td>\n",
       "    </tr>\n",
       "    <tr>\n",
       "      <th>5</th>\n",
       "      <td>Moran, Mr. James</td>\n",
       "      <td>None</td>\n",
       "    </tr>\n",
       "    <tr>\n",
       "      <th>6</th>\n",
       "      <td>McCarthy, Mr. Timothy J</td>\n",
       "      <td>None</td>\n",
       "    </tr>\n",
       "    <tr>\n",
       "      <th>7</th>\n",
       "      <td>Palsson, Master. Gosta Leonard</td>\n",
       "      <td>None</td>\n",
       "    </tr>\n",
       "    <tr>\n",
       "      <th>8</th>\n",
       "      <td>Johnson, Mrs. Oscar W (Elisabeth Vilhelmina Berg)</td>\n",
       "      <td>Elisabeth Vilhelmina Berg</td>\n",
       "    </tr>\n",
       "    <tr>\n",
       "      <th>9</th>\n",
       "      <td>Nasser, Mrs. Nicholas (Adele Achem)</td>\n",
       "      <td>Adele Achem</td>\n",
       "    </tr>\n",
       "  </tbody>\n",
       "</table>\n",
       "</div>"
      ],
      "text/plain": [
       "                                                Name  \\\n",
       "0                            Braund, Mr. Owen Harris   \n",
       "1  Cumings, Mrs. John Bradley (Florence Briggs Th...   \n",
       "2                             Heikkinen, Miss. Laina   \n",
       "3       Futrelle, Mrs. Jacques Heath (Lily May Peel)   \n",
       "4                           Allen, Mr. William Henry   \n",
       "5                                   Moran, Mr. James   \n",
       "6                            McCarthy, Mr. Timothy J   \n",
       "7                     Palsson, Master. Gosta Leonard   \n",
       "8  Johnson, Mrs. Oscar W (Elisabeth Vilhelmina Berg)   \n",
       "9                Nasser, Mrs. Nicholas (Adele Achem)   \n",
       "\n",
       "                  NomeMulher  \n",
       "0                       None  \n",
       "1     Florence Briggs Thayer  \n",
       "2                       None  \n",
       "3              Lily May Peel  \n",
       "4                       None  \n",
       "5                       None  \n",
       "6                       None  \n",
       "7                       None  \n",
       "8  Elisabeth Vilhelmina Berg  \n",
       "9                Adele Achem  "
      ]
     },
     "execution_count": 31,
     "metadata": {},
     "output_type": "execute_result"
    }
   ],
   "source": [
    "titanic[\"NomeMulher\"] = dataframe_nome_dividido_mulheres_2\n",
    "titanic[[\"Name\",\"NomeMulher\"]].head(10)"
   ]
  },
  {
   "cell_type": "markdown",
   "metadata": {
    "hideCode": false,
    "hidePrompt": false
   },
   "source": [
    "### Tratando os nulos na funcao do `apply`"
   ]
  },
  {
   "cell_type": "markdown",
   "metadata": {
    "hideCode": false,
    "hidePrompt": false
   },
   "source": [
    "<span style=\"color:blue\">__Nós temos nome das mulheres na coluna `NomeMulher`. Podemos então substituir na coluna `Name` o nome das mulheres pelo nome na coluna `NomeMulher`.__</span>\n",
    "\n",
    "Nesse caso não teremos problema de perder informação, pois o sobrenome esta salvo, então podemos identificar a família da mulher.\n",
    "\n",
    "Dica:\n",
    "- O `pandas` tem um teste para valores nulos: `pandas.isnull(valor)`. Ele retorna verdadeiro se for nulo e falso se não for.\n",
    "- A função que será aplicada deverá testar os valores de entrada para conteudo nulo com um `if`"
   ]
  },
  {
   "cell_type": "code",
   "execution_count": null,
   "metadata": {
    "collapsed": true,
    "hideCode": false,
    "hidePrompt": false
   },
   "outputs": [],
   "source": []
  },
  {
   "cell_type": "code",
   "execution_count": null,
   "metadata": {
    "collapsed": true,
    "hideCode": false,
    "hidePrompt": false
   },
   "outputs": [],
   "source": []
  },
  {
   "cell_type": "code",
   "execution_count": null,
   "metadata": {
    "collapsed": true,
    "hideCode": false,
    "hidePrompt": false
   },
   "outputs": [],
   "source": []
  },
  {
   "cell_type": "code",
   "execution_count": null,
   "metadata": {
    "collapsed": true,
    "hideCode": false,
    "hidePrompt": false
   },
   "outputs": [],
   "source": []
  },
  {
   "cell_type": "code",
   "execution_count": 32,
   "metadata": {
    "hideCode": false,
    "hidePrompt": false,
    "scrolled": true
   },
   "outputs": [
    {
     "data": {
      "text/plain": [
       "0     Braund, Mr. Owen Harris\n",
       "1      Florence Briggs Thayer\n",
       "2      Heikkinen, Miss. Laina\n",
       "3               Lily May Peel\n",
       "4    Allen, Mr. William Henry\n",
       "dtype: object"
      ]
     },
     "execution_count": 32,
     "metadata": {},
     "output_type": "execute_result"
    }
   ],
   "source": [
    "def substitui_nome(linha_do_dataframe):\n",
    "    nome_mulher = linha_do_dataframe[\"NomeMulher\"]\n",
    "    nome = linha_do_dataframe[\"Name\"]\n",
    "    if not pandas.isnull(nome_mulher):\n",
    "        return nome_mulher\n",
    "    else:\n",
    "        return nome\n",
    "    \n",
    "nova_coluna_name = titanic.apply(substitui_nome, axis=1)\n",
    "nova_coluna_name.head()"
   ]
  },
  {
   "cell_type": "code",
   "execution_count": 33,
   "metadata": {
    "hideCode": false,
    "hidePrompt": false
   },
   "outputs": [
    {
     "data": {
      "text/html": [
       "<div>\n",
       "<style>\n",
       "    .dataframe thead tr:only-child th {\n",
       "        text-align: right;\n",
       "    }\n",
       "\n",
       "    .dataframe thead th {\n",
       "        text-align: left;\n",
       "    }\n",
       "\n",
       "    .dataframe tbody tr th {\n",
       "        vertical-align: top;\n",
       "    }\n",
       "</style>\n",
       "<table border=\"1\" class=\"dataframe\">\n",
       "  <thead>\n",
       "    <tr style=\"text-align: right;\">\n",
       "      <th></th>\n",
       "      <th>PassengerId</th>\n",
       "      <th>Survived</th>\n",
       "      <th>Pclass</th>\n",
       "      <th>Name</th>\n",
       "      <th>Sex</th>\n",
       "      <th>Age</th>\n",
       "      <th>SibSp</th>\n",
       "      <th>Parch</th>\n",
       "      <th>Ticket</th>\n",
       "      <th>Fare</th>\n",
       "      <th>Cabin</th>\n",
       "      <th>Embarked</th>\n",
       "      <th>FaixaDeIdade</th>\n",
       "      <th>Sobrenome</th>\n",
       "      <th>NomeMulher</th>\n",
       "    </tr>\n",
       "  </thead>\n",
       "  <tbody>\n",
       "    <tr>\n",
       "      <th>0</th>\n",
       "      <td>1</td>\n",
       "      <td>0</td>\n",
       "      <td>3</td>\n",
       "      <td>Braund, Mr. Owen Harris</td>\n",
       "      <td>male</td>\n",
       "      <td>22.0</td>\n",
       "      <td>1</td>\n",
       "      <td>0</td>\n",
       "      <td>A/5 21171</td>\n",
       "      <td>7.2500</td>\n",
       "      <td>NaN</td>\n",
       "      <td>S</td>\n",
       "      <td>adulto</td>\n",
       "      <td>Braund</td>\n",
       "      <td>None</td>\n",
       "    </tr>\n",
       "    <tr>\n",
       "      <th>1</th>\n",
       "      <td>2</td>\n",
       "      <td>1</td>\n",
       "      <td>1</td>\n",
       "      <td>Florence Briggs Thayer</td>\n",
       "      <td>female</td>\n",
       "      <td>38.0</td>\n",
       "      <td>1</td>\n",
       "      <td>0</td>\n",
       "      <td>PC 17599</td>\n",
       "      <td>71.2833</td>\n",
       "      <td>C85</td>\n",
       "      <td>C</td>\n",
       "      <td>adulto</td>\n",
       "      <td>Cumings</td>\n",
       "      <td>Florence Briggs Thayer</td>\n",
       "    </tr>\n",
       "    <tr>\n",
       "      <th>2</th>\n",
       "      <td>3</td>\n",
       "      <td>1</td>\n",
       "      <td>3</td>\n",
       "      <td>Heikkinen, Miss. Laina</td>\n",
       "      <td>female</td>\n",
       "      <td>26.0</td>\n",
       "      <td>0</td>\n",
       "      <td>0</td>\n",
       "      <td>STON/O2. 3101282</td>\n",
       "      <td>7.9250</td>\n",
       "      <td>NaN</td>\n",
       "      <td>S</td>\n",
       "      <td>adulto</td>\n",
       "      <td>Heikkinen</td>\n",
       "      <td>None</td>\n",
       "    </tr>\n",
       "    <tr>\n",
       "      <th>3</th>\n",
       "      <td>4</td>\n",
       "      <td>1</td>\n",
       "      <td>1</td>\n",
       "      <td>Lily May Peel</td>\n",
       "      <td>female</td>\n",
       "      <td>35.0</td>\n",
       "      <td>1</td>\n",
       "      <td>0</td>\n",
       "      <td>113803</td>\n",
       "      <td>53.1000</td>\n",
       "      <td>C123</td>\n",
       "      <td>S</td>\n",
       "      <td>adulto</td>\n",
       "      <td>Futrelle</td>\n",
       "      <td>Lily May Peel</td>\n",
       "    </tr>\n",
       "    <tr>\n",
       "      <th>4</th>\n",
       "      <td>5</td>\n",
       "      <td>0</td>\n",
       "      <td>3</td>\n",
       "      <td>Allen, Mr. William Henry</td>\n",
       "      <td>male</td>\n",
       "      <td>35.0</td>\n",
       "      <td>0</td>\n",
       "      <td>0</td>\n",
       "      <td>373450</td>\n",
       "      <td>8.0500</td>\n",
       "      <td>NaN</td>\n",
       "      <td>S</td>\n",
       "      <td>adulto</td>\n",
       "      <td>Allen</td>\n",
       "      <td>None</td>\n",
       "    </tr>\n",
       "  </tbody>\n",
       "</table>\n",
       "</div>"
      ],
      "text/plain": [
       "   PassengerId  Survived  Pclass                      Name     Sex   Age  \\\n",
       "0            1         0       3   Braund, Mr. Owen Harris    male  22.0   \n",
       "1            2         1       1    Florence Briggs Thayer  female  38.0   \n",
       "2            3         1       3    Heikkinen, Miss. Laina  female  26.0   \n",
       "3            4         1       1             Lily May Peel  female  35.0   \n",
       "4            5         0       3  Allen, Mr. William Henry    male  35.0   \n",
       "\n",
       "   SibSp  Parch            Ticket     Fare Cabin Embarked FaixaDeIdade  \\\n",
       "0      1      0         A/5 21171   7.2500   NaN        S       adulto   \n",
       "1      1      0          PC 17599  71.2833   C85        C       adulto   \n",
       "2      0      0  STON/O2. 3101282   7.9250   NaN        S       adulto   \n",
       "3      1      0            113803  53.1000  C123        S       adulto   \n",
       "4      0      0            373450   8.0500   NaN        S       adulto   \n",
       "\n",
       "   Sobrenome              NomeMulher  \n",
       "0     Braund                    None  \n",
       "1    Cumings  Florence Briggs Thayer  \n",
       "2  Heikkinen                    None  \n",
       "3   Futrelle           Lily May Peel  \n",
       "4      Allen                    None  "
      ]
     },
     "execution_count": 33,
     "metadata": {},
     "output_type": "execute_result"
    }
   ],
   "source": [
    "titanic[\"Name\"]=nova_coluna_name\n",
    "titanic.head()"
   ]
  },
  {
   "cell_type": "markdown",
   "metadata": {
    "hideCode": false,
    "hidePrompt": false
   },
   "source": [
    "__Sabendo disso, conseguimos resolver juntos o exercício final da Aula 2! __\n",
    "\n",
    "<span style=\"color:blue\">__Substituir as idades nulas pela média das idades do sexo__</span>\n",
    "\n",
    "Ex.: Se a média da idade das mulheres é 25, toda mulher com idade nula deve ser preenchida com 25"
   ]
  },
  {
   "cell_type": "code",
   "execution_count": null,
   "metadata": {
    "collapsed": true,
    "hideCode": false,
    "hidePrompt": false
   },
   "outputs": [],
   "source": []
  },
  {
   "cell_type": "code",
   "execution_count": null,
   "metadata": {
    "collapsed": true,
    "hideCode": false,
    "hidePrompt": false
   },
   "outputs": [],
   "source": []
  },
  {
   "cell_type": "code",
   "execution_count": null,
   "metadata": {
    "collapsed": true,
    "hideCode": false,
    "hidePrompt": false
   },
   "outputs": [],
   "source": []
  },
  {
   "cell_type": "code",
   "execution_count": null,
   "metadata": {
    "collapsed": true,
    "hideCode": false,
    "hidePrompt": false
   },
   "outputs": [],
   "source": []
  },
  {
   "cell_type": "code",
   "execution_count": 34,
   "metadata": {
    "hideCode": false,
    "hidePrompt": false
   },
   "outputs": [
    {
     "name": "stdout",
     "output_type": "stream",
     "text": [
      "\n",
      "Media de idade das mulheres: 27.915708812260537\n",
      "Media de idade dos homens: 30.72664459161148\n"
     ]
    }
   ],
   "source": [
    "media_mulher = titanic[titanic.Sex == \"female\"].Age.mean()\n",
    "media_homen = titanic[titanic.Sex == \"male\"].Age.mean()\n",
    "\n",
    "print(\"\"\"\n",
    "Media de idade das mulheres: {}\n",
    "Media de idade dos homens: {}\"\"\".format(media_mulher,media_homen))"
   ]
  },
  {
   "cell_type": "code",
   "execution_count": 35,
   "metadata": {
    "hideCode": false,
    "hidePrompt": false
   },
   "outputs": [
    {
     "name": "stdout",
     "output_type": "stream",
     "text": [
      "\n",
      "Quantidade de nulos após o preenchimento: 0\n",
      "\n"
     ]
    }
   ],
   "source": [
    "def preenche_idade(linha):\n",
    "    idade = linha[\"Age\"]\n",
    "    sexo = linha[\"Sex\"]\n",
    "    \n",
    "    if pandas.isnull(idade):\n",
    "        \n",
    "        if sexo == \"femane\":\n",
    "            return media_mulher\n",
    "        else:\n",
    "            return media_homen\n",
    "        \n",
    "    else:\n",
    "        return idade\n",
    "    \n",
    "\n",
    "idades_preenchidas = titanic.apply(preenche_idade,axis=1)\n",
    "\n",
    "print(\"\"\"\n",
    "Quantidade de nulos após o preenchimento: {}\n",
    "\"\"\".format(idades_preenchidas.isnull().sum()))       "
   ]
  },
  {
   "cell_type": "code",
   "execution_count": 36,
   "metadata": {
    "collapsed": true,
    "hideCode": false,
    "hidePrompt": false
   },
   "outputs": [],
   "source": [
    "# Vamos substituir a idade atual pelo resultado do apply\n",
    "titanic[\"Age\"] = idades_preenchidas"
   ]
  },
  {
   "cell_type": "markdown",
   "metadata": {},
   "source": [
    "## 4 - Tabela de frequência\n",
    "\n",
    "Para entender a correlação entre duas variaveis precisamos coloca-las lado a lado.\n",
    "\n",
    "O Pandas nos da uma funcionalidade de crosstab(tabela de frequência).\n",
    "\n",
    "\n",
    "__Vamos fazer a tabela de frequência entre os sobrenomes e as cabine, para validarmos se cada cabine possuia apenas uma família__"
   ]
  },
  {
   "cell_type": "code",
   "execution_count": 37,
   "metadata": {
    "scrolled": true
   },
   "outputs": [
    {
     "data": {
      "text/html": [
       "<div>\n",
       "<style>\n",
       "    .dataframe thead tr:only-child th {\n",
       "        text-align: right;\n",
       "    }\n",
       "\n",
       "    .dataframe thead th {\n",
       "        text-align: left;\n",
       "    }\n",
       "\n",
       "    .dataframe tbody tr th {\n",
       "        vertical-align: top;\n",
       "    }\n",
       "</style>\n",
       "<table border=\"1\" class=\"dataframe\">\n",
       "  <thead>\n",
       "    <tr style=\"text-align: right;\">\n",
       "      <th>Sobrenome</th>\n",
       "      <th>Allen</th>\n",
       "      <th>Allison</th>\n",
       "      <th>Anderson</th>\n",
       "      <th>Andrews</th>\n",
       "      <th>Appleton</th>\n",
       "      <th>Astor</th>\n",
       "      <th>Aubart</th>\n",
       "      <th>Ball</th>\n",
       "      <th>Barkworth</th>\n",
       "      <th>Baxter</th>\n",
       "      <th>...</th>\n",
       "      <th>Van der hoef</th>\n",
       "      <th>Walker</th>\n",
       "      <th>Warren</th>\n",
       "      <th>Webber</th>\n",
       "      <th>White</th>\n",
       "      <th>Wick</th>\n",
       "      <th>Widener</th>\n",
       "      <th>Williams-Lambert</th>\n",
       "      <th>Woolner</th>\n",
       "      <th>Young</th>\n",
       "    </tr>\n",
       "    <tr>\n",
       "      <th>Cabin</th>\n",
       "      <th></th>\n",
       "      <th></th>\n",
       "      <th></th>\n",
       "      <th></th>\n",
       "      <th></th>\n",
       "      <th></th>\n",
       "      <th></th>\n",
       "      <th></th>\n",
       "      <th></th>\n",
       "      <th></th>\n",
       "      <th></th>\n",
       "      <th></th>\n",
       "      <th></th>\n",
       "      <th></th>\n",
       "      <th></th>\n",
       "      <th></th>\n",
       "      <th></th>\n",
       "      <th></th>\n",
       "      <th></th>\n",
       "      <th></th>\n",
       "      <th></th>\n",
       "    </tr>\n",
       "  </thead>\n",
       "  <tbody>\n",
       "    <tr>\n",
       "      <th>A10</th>\n",
       "      <td>0</td>\n",
       "      <td>0</td>\n",
       "      <td>0</td>\n",
       "      <td>0</td>\n",
       "      <td>0</td>\n",
       "      <td>0</td>\n",
       "      <td>0</td>\n",
       "      <td>0</td>\n",
       "      <td>0</td>\n",
       "      <td>0</td>\n",
       "      <td>...</td>\n",
       "      <td>0</td>\n",
       "      <td>0</td>\n",
       "      <td>0</td>\n",
       "      <td>0</td>\n",
       "      <td>0</td>\n",
       "      <td>0</td>\n",
       "      <td>0</td>\n",
       "      <td>0</td>\n",
       "      <td>0</td>\n",
       "      <td>0</td>\n",
       "    </tr>\n",
       "    <tr>\n",
       "      <th>A14</th>\n",
       "      <td>0</td>\n",
       "      <td>0</td>\n",
       "      <td>0</td>\n",
       "      <td>0</td>\n",
       "      <td>0</td>\n",
       "      <td>0</td>\n",
       "      <td>0</td>\n",
       "      <td>0</td>\n",
       "      <td>0</td>\n",
       "      <td>0</td>\n",
       "      <td>...</td>\n",
       "      <td>0</td>\n",
       "      <td>0</td>\n",
       "      <td>0</td>\n",
       "      <td>0</td>\n",
       "      <td>0</td>\n",
       "      <td>0</td>\n",
       "      <td>0</td>\n",
       "      <td>0</td>\n",
       "      <td>0</td>\n",
       "      <td>0</td>\n",
       "    </tr>\n",
       "    <tr>\n",
       "      <th>A16</th>\n",
       "      <td>0</td>\n",
       "      <td>0</td>\n",
       "      <td>0</td>\n",
       "      <td>0</td>\n",
       "      <td>0</td>\n",
       "      <td>0</td>\n",
       "      <td>0</td>\n",
       "      <td>0</td>\n",
       "      <td>0</td>\n",
       "      <td>0</td>\n",
       "      <td>...</td>\n",
       "      <td>0</td>\n",
       "      <td>0</td>\n",
       "      <td>0</td>\n",
       "      <td>0</td>\n",
       "      <td>0</td>\n",
       "      <td>0</td>\n",
       "      <td>0</td>\n",
       "      <td>0</td>\n",
       "      <td>0</td>\n",
       "      <td>0</td>\n",
       "    </tr>\n",
       "    <tr>\n",
       "      <th>A19</th>\n",
       "      <td>0</td>\n",
       "      <td>0</td>\n",
       "      <td>0</td>\n",
       "      <td>0</td>\n",
       "      <td>0</td>\n",
       "      <td>0</td>\n",
       "      <td>0</td>\n",
       "      <td>0</td>\n",
       "      <td>0</td>\n",
       "      <td>0</td>\n",
       "      <td>...</td>\n",
       "      <td>0</td>\n",
       "      <td>0</td>\n",
       "      <td>0</td>\n",
       "      <td>0</td>\n",
       "      <td>0</td>\n",
       "      <td>0</td>\n",
       "      <td>0</td>\n",
       "      <td>0</td>\n",
       "      <td>0</td>\n",
       "      <td>0</td>\n",
       "    </tr>\n",
       "    <tr>\n",
       "      <th>A20</th>\n",
       "      <td>0</td>\n",
       "      <td>0</td>\n",
       "      <td>0</td>\n",
       "      <td>0</td>\n",
       "      <td>0</td>\n",
       "      <td>0</td>\n",
       "      <td>0</td>\n",
       "      <td>0</td>\n",
       "      <td>0</td>\n",
       "      <td>0</td>\n",
       "      <td>...</td>\n",
       "      <td>0</td>\n",
       "      <td>0</td>\n",
       "      <td>0</td>\n",
       "      <td>0</td>\n",
       "      <td>0</td>\n",
       "      <td>0</td>\n",
       "      <td>0</td>\n",
       "      <td>0</td>\n",
       "      <td>0</td>\n",
       "      <td>0</td>\n",
       "    </tr>\n",
       "  </tbody>\n",
       "</table>\n",
       "<p>5 rows × 158 columns</p>\n",
       "</div>"
      ],
      "text/plain": [
       "Sobrenome  Allen  Allison  Anderson  Andrews  Appleton  Astor  Aubart  Ball  \\\n",
       "Cabin                                                                         \n",
       "A10            0        0         0        0         0      0       0     0   \n",
       "A14            0        0         0        0         0      0       0     0   \n",
       "A16            0        0         0        0         0      0       0     0   \n",
       "A19            0        0         0        0         0      0       0     0   \n",
       "A20            0        0         0        0         0      0       0     0   \n",
       "\n",
       "Sobrenome  Barkworth  Baxter  ...    Van der hoef  Walker  Warren  Webber  \\\n",
       "Cabin                         ...                                           \n",
       "A10                0       0  ...               0       0       0       0   \n",
       "A14                0       0  ...               0       0       0       0   \n",
       "A16                0       0  ...               0       0       0       0   \n",
       "A19                0       0  ...               0       0       0       0   \n",
       "A20                0       0  ...               0       0       0       0   \n",
       "\n",
       "Sobrenome  White  Wick  Widener  Williams-Lambert  Woolner  Young  \n",
       "Cabin                                                              \n",
       "A10            0     0        0                 0        0      0  \n",
       "A14            0     0        0                 0        0      0  \n",
       "A16            0     0        0                 0        0      0  \n",
       "A19            0     0        0                 0        0      0  \n",
       "A20            0     0        0                 0        0      0  \n",
       "\n",
       "[5 rows x 158 columns]"
      ]
     },
     "execution_count": 37,
     "metadata": {},
     "output_type": "execute_result"
    }
   ],
   "source": [
    "tabela_frequencia_cabine_sobrenome = pandas.crosstab(titanic.Cabin, titanic.Sobrenome)\n",
    "tabela_frequencia_cabine_sobrenome.head()"
   ]
  },
  {
   "cell_type": "code",
   "execution_count": 38,
   "metadata": {},
   "outputs": [
    {
     "data": {
      "text/plain": [
       "Cabin\n",
       "F33     3\n",
       "D       3\n",
       "E101    3\n",
       "B5      2\n",
       "D20     2\n",
       "dtype: int64"
      ]
     },
     "execution_count": 38,
     "metadata": {},
     "output_type": "execute_result"
    }
   ],
   "source": [
    "def cabin_with_family(line):\n",
    "    soma = 0\n",
    "    for i in line:\n",
    "        if i != 0:\n",
    "            soma = soma + 1\n",
    "    return soma\n",
    "\n",
    "familias_diferentes_por_cabine = tabela_frequencia_cabine_sobrenome.apply(cabin_with_family,axis=1)\n",
    "familias_diferentes_por_cabine.sort_values(ascending=False).head()"
   ]
  },
  {
   "cell_type": "markdown",
   "metadata": {
    "hideCode": false,
    "hidePrompt": false
   },
   "source": [
    "## 3 - Salvando o Dataframe"
   ]
  },
  {
   "cell_type": "code",
   "execution_count": 39,
   "metadata": {
    "collapsed": true,
    "hideCode": false,
    "hidePrompt": false
   },
   "outputs": [],
   "source": [
    "# Preparando o Dataframe para ser salvo\n",
    "\n",
    "# Como ja passamos para Name, vamos apagar a coluna NomeMulher diretamente do dataframe\n",
    "del titanic[\"NomeMulher\"]"
   ]
  },
  {
   "cell_type": "code",
   "execution_count": 40,
   "metadata": {
    "collapsed": true,
    "hideCode": false,
    "hidePrompt": false
   },
   "outputs": [],
   "source": [
    "# salvando\n",
    "titanic.to_csv(\"titanic_novo.csv\")"
   ]
  },
  {
   "cell_type": "markdown",
   "metadata": {
    "hideCode": false,
    "hidePrompt": false
   },
   "source": [
    "o dataframe pode ser salvo em outros formatos."
   ]
  },
  {
   "cell_type": "code",
   "execution_count": 41,
   "metadata": {
    "collapsed": true,
    "hideCode": false,
    "hidePrompt": false
   },
   "outputs": [],
   "source": [
    "# Salvando em Json\n",
    "titanic.to_json(\"titanic_novo.json\")"
   ]
  },
  {
   "cell_type": "markdown",
   "metadata": {
    "hideCode": false,
    "hidePrompt": false
   },
   "source": [
    "_________\n",
    "Vamos aprender a trabalhar com outro tipos de dados que não temos no dataset _Titanic_.\n",
    "\n",
    "Para continuar então vamos criar nosso dataset!"
   ]
  },
  {
   "cell_type": "markdown",
   "metadata": {
    "hideCode": false,
    "hidePrompt": false
   },
   "source": [
    "<font size=\"5\">http://bit.ly/2m7CqWf</font>"
   ]
  },
  {
   "cell_type": "code",
   "execution_count": 42,
   "metadata": {
    "collapsed": true,
    "hideCode": false,
    "hidePrompt": false
   },
   "outputs": [],
   "source": [
    "alunos = pandas.read_csv(\"http://bit.ly/2zrHNVW\")"
   ]
  },
  {
   "cell_type": "markdown",
   "metadata": {
    "hideCode": false,
    "hidePrompt": false
   },
   "source": [
    "<font size=\"6\">http://bit.ly/2zrHNVW</font>\n",
    "\n",
    "## 4 - Tratando Datas"
   ]
  },
  {
   "cell_type": "code",
   "execution_count": 43,
   "metadata": {
    "hideCode": false,
    "hidePrompt": false
   },
   "outputs": [
    {
     "data": {
      "text/plain": [
       "Nome       object\n",
       "Data       object\n",
       "sexo       object\n",
       "altura    float64\n",
       "dtype: object"
      ]
     },
     "execution_count": 43,
     "metadata": {},
     "output_type": "execute_result"
    }
   ],
   "source": [
    "import datetime\n",
    "\n",
    "alunos.dtypes"
   ]
  },
  {
   "cell_type": "markdown",
   "metadata": {
    "hideCode": false,
    "hidePrompt": false
   },
   "source": [
    "Preenchemos um dado como data, mas quando lemos o csv ele foi interpretado como `object`.\n",
    "\n",
    "Vamos convertes o dado para o tipo correto"
   ]
  },
  {
   "cell_type": "code",
   "execution_count": 44,
   "metadata": {
    "hideCode": false,
    "hidePrompt": false
   },
   "outputs": [
    {
     "data": {
      "text/plain": [
       "0    1994-04-27\n",
       "1    1993-10-11\n",
       "2    1990-11-08\n",
       "3    1945-04-14\n",
       "4    1986-11-09\n",
       "5    1976-06-19\n",
       "6    1987-08-31\n",
       "7    1981-07-02\n",
       "8    1988-07-11\n",
       "9    1967-06-08\n",
       "10   1956-01-08\n",
       "11   1989-12-12\n",
       "Name: Data, dtype: datetime64[ns]"
      ]
     },
     "execution_count": 44,
     "metadata": {},
     "output_type": "execute_result"
    }
   ],
   "source": [
    "novas_datas = alunos.Data.apply(pandas.to_datetime)\n",
    "novas_datas"
   ]
  },
  {
   "cell_type": "code",
   "execution_count": 45,
   "metadata": {
    "collapsed": true
   },
   "outputs": [],
   "source": [
    "pandas.to_datetime?"
   ]
  },
  {
   "cell_type": "code",
   "execution_count": 46,
   "metadata": {
    "collapsed": true,
    "hideCode": false,
    "hidePrompt": false
   },
   "outputs": [],
   "source": [
    "alunos.Data = novas_datas"
   ]
  },
  {
   "cell_type": "code",
   "execution_count": 47,
   "metadata": {
    "hideCode": false,
    "hidePrompt": false
   },
   "outputs": [
    {
     "data": {
      "text/plain": [
       "Nome              object\n",
       "Data      datetime64[ns]\n",
       "sexo              object\n",
       "altura           float64\n",
       "dtype: object"
      ]
     },
     "execution_count": 47,
     "metadata": {},
     "output_type": "execute_result"
    }
   ],
   "source": [
    "alunos.dtypes"
   ]
  },
  {
   "cell_type": "markdown",
   "metadata": {
    "hideCode": false,
    "hidePrompt": false
   },
   "source": [
    "Agora o tipo da coluna é __datetime__, podemos então aplicar os métodos de __datetime__ na coluna!"
   ]
  },
  {
   "cell_type": "code",
   "execution_count": 48,
   "metadata": {
    "hideCode": false,
    "hidePrompt": false
   },
   "outputs": [
    {
     "data": {
      "text/plain": [
       "0      4\n",
       "1     10\n",
       "2     11\n",
       "3      4\n",
       "4     11\n",
       "5      6\n",
       "6      8\n",
       "7      7\n",
       "8      7\n",
       "9      6\n",
       "10     1\n",
       "11    12\n",
       "Name: Data, dtype: int64"
      ]
     },
     "execution_count": 48,
     "metadata": {},
     "output_type": "execute_result"
    }
   ],
   "source": [
    "# Série apenas com os meses\n",
    "alunos.Data.dt.month"
   ]
  },
  {
   "cell_type": "code",
   "execution_count": 49,
   "metadata": {
    "hideCode": false,
    "hidePrompt": false
   },
   "outputs": [
    {
     "data": {
      "text/plain": [
       "0     1994\n",
       "1     1993\n",
       "2     1990\n",
       "3     1945\n",
       "4     1986\n",
       "5     1976\n",
       "6     1987\n",
       "7     1981\n",
       "8     1988\n",
       "9     1967\n",
       "10    1956\n",
       "11    1989\n",
       "Name: Data, dtype: int64"
      ]
     },
     "execution_count": 49,
     "metadata": {},
     "output_type": "execute_result"
    }
   ],
   "source": [
    "# Série apenas com o ano\n",
    "alunos.Data.dt.year"
   ]
  },
  {
   "cell_type": "code",
   "execution_count": 50,
   "metadata": {
    "hideCode": false,
    "hidePrompt": false
   },
   "outputs": [
    {
     "data": {
      "text/plain": [
       "0     2\n",
       "1     0\n",
       "2     3\n",
       "3     5\n",
       "4     6\n",
       "5     5\n",
       "6     0\n",
       "7     3\n",
       "8     0\n",
       "9     3\n",
       "10    6\n",
       "11    1\n",
       "Name: Data, dtype: int64"
      ]
     },
     "execution_count": 50,
     "metadata": {},
     "output_type": "execute_result"
    }
   ],
   "source": [
    "# Série com o dia da semana \n",
    "# Ordem:\n",
    "# 'Segunda-feira', 'Terça-feira', 'Quarta-feira', 'Quinta-feira', 'Sexta-feira', 'Sábado', 'Domingo'\n",
    "alunos.Data.dt.weekday"
   ]
  },
  {
   "cell_type": "markdown",
   "metadata": {
    "hideCode": false,
    "hidePrompt": false
   },
   "source": [
    "Podemos também, caso seja necessário, criar uma série com o tipo string com um formato especéifico na data"
   ]
  },
  {
   "cell_type": "code",
   "execution_count": 51,
   "metadata": {
    "hideCode": false,
    "hidePrompt": false
   },
   "outputs": [
    {
     "data": {
      "text/plain": [
       "0     27/04/1994\n",
       "1     11/10/1993\n",
       "2     08/11/1990\n",
       "3     14/04/1945\n",
       "4     09/11/1986\n",
       "5     19/06/1976\n",
       "6     31/08/1987\n",
       "7     02/07/1981\n",
       "8     11/07/1988\n",
       "9     08/06/1967\n",
       "10    08/01/1956\n",
       "11    12/12/1989\n",
       "Name: Data, dtype: object"
      ]
     },
     "execution_count": 51,
     "metadata": {},
     "output_type": "execute_result"
    }
   ],
   "source": [
    "alunos.Data.dt.strftime(\"%d/%m/%Y\")"
   ]
  },
  {
   "cell_type": "markdown",
   "metadata": {
    "hideCode": false,
    "hidePrompt": false
   },
   "source": [
    "Formatação de data no python segue um padrão de varias linguagens de programação.\n",
    "Basta você montar a string de formatação substituindo os valores pelos simbolos correnpondentes.\n",
    "\n",
    "Você pode [ver os simbolos aqui](https://docs.python.org/3/library/datetime.html#strftime-and-strptime-behavior).\n",
    "\n",
    "\n",
    "__<span style=\"color:blue\">Com as datas de nascimento no tipo certo, podemos calcular as idades das pessoas em nosso dataset!</span>__\n",
    "\n",
    "Dica:\n",
    "- Para acessar o ano do datetime: date.year"
   ]
  },
  {
   "cell_type": "code",
   "execution_count": 52,
   "metadata": {
    "collapsed": true,
    "hideCode": false,
    "hidePrompt": false
   },
   "outputs": [],
   "source": [
    "import datetime\n",
    "today = datetime.datetime.today()"
   ]
  },
  {
   "cell_type": "code",
   "execution_count": 53,
   "metadata": {
    "hideCode": false,
    "hidePrompt": false
   },
   "outputs": [
    {
     "data": {
      "text/plain": [
       "2017"
      ]
     },
     "execution_count": 53,
     "metadata": {},
     "output_type": "execute_result"
    }
   ],
   "source": [
    "today.year"
   ]
  },
  {
   "cell_type": "code",
   "execution_count": null,
   "metadata": {
    "collapsed": true,
    "hideCode": false,
    "hidePrompt": false
   },
   "outputs": [],
   "source": []
  },
  {
   "cell_type": "code",
   "execution_count": null,
   "metadata": {
    "collapsed": true,
    "hideCode": false,
    "hidePrompt": false
   },
   "outputs": [],
   "source": []
  },
  {
   "cell_type": "code",
   "execution_count": 54,
   "metadata": {
    "hideCode": false,
    "hidePrompt": false
   },
   "outputs": [
    {
     "data": {
      "text/plain": [
       "0     23\n",
       "1     24\n",
       "2     27\n",
       "3     72\n",
       "4     31\n",
       "5     41\n",
       "6     30\n",
       "7     36\n",
       "8     29\n",
       "9     50\n",
       "10    61\n",
       "11    28\n",
       "dtype: int64"
      ]
     },
     "execution_count": 54,
     "metadata": {},
     "output_type": "execute_result"
    }
   ],
   "source": [
    "def idade(linha):\n",
    "    data = linha[\"Data\"]\n",
    "    return datetime.datetime.now().year - data.year\n",
    "\n",
    "alunos.apply(idade, axis=1)"
   ]
  },
  {
   "cell_type": "markdown",
   "metadata": {
    "hideCode": false,
    "hidePrompt": false
   },
   "source": [
    "## 5 - Unindo Datasets\n",
    "\n",
    "Em muitos casos os dados não estarão todos no mesmo dataset. Para resolver isso podemos criar um dataset ja junção de outros. Para juntar dois datasets basta que tenhamos um dado em comum entre os dois.\n",
    "\n",
    "\n",
    "Vamos fazer um dataframe com os dias da semana, e agregar essa informação ao dataframe alunos"
   ]
  },
  {
   "cell_type": "code",
   "execution_count": 55,
   "metadata": {},
   "outputs": [
    {
     "data": {
      "text/html": [
       "<div>\n",
       "<style>\n",
       "    .dataframe thead tr:only-child th {\n",
       "        text-align: right;\n",
       "    }\n",
       "\n",
       "    .dataframe thead th {\n",
       "        text-align: left;\n",
       "    }\n",
       "\n",
       "    .dataframe tbody tr th {\n",
       "        vertical-align: top;\n",
       "    }\n",
       "</style>\n",
       "<table border=\"1\" class=\"dataframe\">\n",
       "  <thead>\n",
       "    <tr style=\"text-align: right;\">\n",
       "      <th></th>\n",
       "      <th>dia_da_semana</th>\n",
       "      <th>numero</th>\n",
       "    </tr>\n",
       "  </thead>\n",
       "  <tbody>\n",
       "    <tr>\n",
       "      <th>0</th>\n",
       "      <td>Segunda</td>\n",
       "      <td>0</td>\n",
       "    </tr>\n",
       "    <tr>\n",
       "      <th>1</th>\n",
       "      <td>Terça</td>\n",
       "      <td>1</td>\n",
       "    </tr>\n",
       "    <tr>\n",
       "      <th>2</th>\n",
       "      <td>Quarta</td>\n",
       "      <td>2</td>\n",
       "    </tr>\n",
       "    <tr>\n",
       "      <th>3</th>\n",
       "      <td>Quinta</td>\n",
       "      <td>3</td>\n",
       "    </tr>\n",
       "    <tr>\n",
       "      <th>4</th>\n",
       "      <td>Sexta</td>\n",
       "      <td>4</td>\n",
       "    </tr>\n",
       "    <tr>\n",
       "      <th>5</th>\n",
       "      <td>Sábado</td>\n",
       "      <td>5</td>\n",
       "    </tr>\n",
       "    <tr>\n",
       "      <th>6</th>\n",
       "      <td>Domingo</td>\n",
       "      <td>6</td>\n",
       "    </tr>\n",
       "  </tbody>\n",
       "</table>\n",
       "</div>"
      ],
      "text/plain": [
       "  dia_da_semana  numero\n",
       "0       Segunda       0\n",
       "1         Terça       1\n",
       "2        Quarta       2\n",
       "3        Quinta       3\n",
       "4         Sexta       4\n",
       "5        Sábado       5\n",
       "6       Domingo       6"
      ]
     },
     "execution_count": 55,
     "metadata": {},
     "output_type": "execute_result"
    }
   ],
   "source": [
    "# Criando um dataframe\n",
    "dias_da_semana = [{\"dia_da_semana\":\"Segunda\", \"numero\":0},\n",
    "                 {\"dia_da_semana\":\"Terça\", \"numero\":1},\n",
    "                 {\"dia_da_semana\":\"Quarta\", \"numero\":2},\n",
    "                 {\"dia_da_semana\":\"Quinta\", \"numero\":3},\n",
    "                 {\"dia_da_semana\":\"Sexta\", \"numero\":4},\n",
    "                 {\"dia_da_semana\":\"Sábado\", \"numero\":5},\n",
    "                 {\"dia_da_semana\":\"Domingo\", \"numero\":6}]\n",
    "\n",
    "dataframe_dias_da_semana = pandas.DataFrame(dias_da_semana)\n",
    "\n",
    "dataframe_dias_da_semana"
   ]
  },
  {
   "cell_type": "code",
   "execution_count": 56,
   "metadata": {},
   "outputs": [
    {
     "data": {
      "text/html": [
       "<div>\n",
       "<style>\n",
       "    .dataframe thead tr:only-child th {\n",
       "        text-align: right;\n",
       "    }\n",
       "\n",
       "    .dataframe thead th {\n",
       "        text-align: left;\n",
       "    }\n",
       "\n",
       "    .dataframe tbody tr th {\n",
       "        vertical-align: top;\n",
       "    }\n",
       "</style>\n",
       "<table border=\"1\" class=\"dataframe\">\n",
       "  <thead>\n",
       "    <tr style=\"text-align: right;\">\n",
       "      <th></th>\n",
       "      <th>Nome</th>\n",
       "      <th>Data</th>\n",
       "      <th>sexo</th>\n",
       "      <th>altura</th>\n",
       "      <th>dia_da_semana</th>\n",
       "    </tr>\n",
       "  </thead>\n",
       "  <tbody>\n",
       "    <tr>\n",
       "      <th>0</th>\n",
       "      <td>Susana</td>\n",
       "      <td>1994-04-27</td>\n",
       "      <td>f</td>\n",
       "      <td>1.77</td>\n",
       "      <td>2</td>\n",
       "    </tr>\n",
       "    <tr>\n",
       "      <th>1</th>\n",
       "      <td>Daniel</td>\n",
       "      <td>1993-10-11</td>\n",
       "      <td>f</td>\n",
       "      <td>1.82</td>\n",
       "      <td>0</td>\n",
       "    </tr>\n",
       "    <tr>\n",
       "      <th>2</th>\n",
       "      <td>Laís</td>\n",
       "      <td>1990-11-08</td>\n",
       "      <td>f</td>\n",
       "      <td>1.68</td>\n",
       "      <td>3</td>\n",
       "    </tr>\n",
       "    <tr>\n",
       "      <th>3</th>\n",
       "      <td>Mauricio</td>\n",
       "      <td>1945-04-14</td>\n",
       "      <td>f</td>\n",
       "      <td>1.72</td>\n",
       "      <td>5</td>\n",
       "    </tr>\n",
       "    <tr>\n",
       "      <th>4</th>\n",
       "      <td>Alexandre</td>\n",
       "      <td>1986-11-09</td>\n",
       "      <td>m</td>\n",
       "      <td>1.75</td>\n",
       "      <td>6</td>\n",
       "    </tr>\n",
       "    <tr>\n",
       "      <th>5</th>\n",
       "      <td>Daniel Garcia</td>\n",
       "      <td>1976-06-19</td>\n",
       "      <td>m</td>\n",
       "      <td>1.69</td>\n",
       "      <td>5</td>\n",
       "    </tr>\n",
       "    <tr>\n",
       "      <th>6</th>\n",
       "      <td>Danila Moreno</td>\n",
       "      <td>1987-08-31</td>\n",
       "      <td>F</td>\n",
       "      <td>1.55</td>\n",
       "      <td>0</td>\n",
       "    </tr>\n",
       "    <tr>\n",
       "      <th>7</th>\n",
       "      <td>Felipe</td>\n",
       "      <td>1981-07-02</td>\n",
       "      <td>m</td>\n",
       "      <td>1.74</td>\n",
       "      <td>3</td>\n",
       "    </tr>\n",
       "    <tr>\n",
       "      <th>8</th>\n",
       "      <td>Adriano</td>\n",
       "      <td>1988-07-11</td>\n",
       "      <td>m</td>\n",
       "      <td>1.80</td>\n",
       "      <td>0</td>\n",
       "    </tr>\n",
       "    <tr>\n",
       "      <th>9</th>\n",
       "      <td>Cid</td>\n",
       "      <td>1967-06-08</td>\n",
       "      <td>m</td>\n",
       "      <td>1.75</td>\n",
       "      <td>3</td>\n",
       "    </tr>\n",
       "    <tr>\n",
       "      <th>10</th>\n",
       "      <td>Edson</td>\n",
       "      <td>1956-01-08</td>\n",
       "      <td>m</td>\n",
       "      <td>1.76</td>\n",
       "      <td>6</td>\n",
       "    </tr>\n",
       "    <tr>\n",
       "      <th>11</th>\n",
       "      <td>Gustavo Leão</td>\n",
       "      <td>1989-12-12</td>\n",
       "      <td>m</td>\n",
       "      <td>1.93</td>\n",
       "      <td>1</td>\n",
       "    </tr>\n",
       "  </tbody>\n",
       "</table>\n",
       "</div>"
      ],
      "text/plain": [
       "             Nome       Data sexo  altura  dia_da_semana\n",
       "0          Susana 1994-04-27    f    1.77              2\n",
       "1          Daniel 1993-10-11    f    1.82              0\n",
       "2            Laís 1990-11-08    f    1.68              3\n",
       "3        Mauricio 1945-04-14    f    1.72              5\n",
       "4       Alexandre 1986-11-09    m    1.75              6\n",
       "5   Daniel Garcia 1976-06-19    m    1.69              5\n",
       "6   Danila Moreno 1987-08-31    F    1.55              0\n",
       "7          Felipe 1981-07-02    m    1.74              3\n",
       "8         Adriano 1988-07-11    m    1.80              0\n",
       "9             Cid 1967-06-08    m    1.75              3\n",
       "10          Edson 1956-01-08    m    1.76              6\n",
       "11   Gustavo Leão 1989-12-12    m    1.93              1"
      ]
     },
     "execution_count": 56,
     "metadata": {},
     "output_type": "execute_result"
    }
   ],
   "source": [
    "# Criando a coluna com o dia da semana (número) no dataframe alunos\n",
    "\n",
    "alunos[\"dia_da_semana\"] = alunos.Data.dt.weekday\n",
    "alunos"
   ]
  },
  {
   "cell_type": "code",
   "execution_count": 57,
   "metadata": {
    "scrolled": true
   },
   "outputs": [
    {
     "data": {
      "text/html": [
       "<div>\n",
       "<style>\n",
       "    .dataframe thead tr:only-child th {\n",
       "        text-align: right;\n",
       "    }\n",
       "\n",
       "    .dataframe thead th {\n",
       "        text-align: left;\n",
       "    }\n",
       "\n",
       "    .dataframe tbody tr th {\n",
       "        vertical-align: top;\n",
       "    }\n",
       "</style>\n",
       "<table border=\"1\" class=\"dataframe\">\n",
       "  <thead>\n",
       "    <tr style=\"text-align: right;\">\n",
       "      <th></th>\n",
       "      <th>Nome</th>\n",
       "      <th>Data</th>\n",
       "      <th>sexo</th>\n",
       "      <th>altura</th>\n",
       "      <th>dia_da_semana_x</th>\n",
       "      <th>dia_da_semana_y</th>\n",
       "      <th>numero</th>\n",
       "    </tr>\n",
       "  </thead>\n",
       "  <tbody>\n",
       "    <tr>\n",
       "      <th>0</th>\n",
       "      <td>Susana</td>\n",
       "      <td>1994-04-27</td>\n",
       "      <td>f</td>\n",
       "      <td>1.77</td>\n",
       "      <td>2</td>\n",
       "      <td>Quarta</td>\n",
       "      <td>2</td>\n",
       "    </tr>\n",
       "    <tr>\n",
       "      <th>1</th>\n",
       "      <td>Daniel</td>\n",
       "      <td>1993-10-11</td>\n",
       "      <td>f</td>\n",
       "      <td>1.82</td>\n",
       "      <td>0</td>\n",
       "      <td>Segunda</td>\n",
       "      <td>0</td>\n",
       "    </tr>\n",
       "    <tr>\n",
       "      <th>2</th>\n",
       "      <td>Danila Moreno</td>\n",
       "      <td>1987-08-31</td>\n",
       "      <td>F</td>\n",
       "      <td>1.55</td>\n",
       "      <td>0</td>\n",
       "      <td>Segunda</td>\n",
       "      <td>0</td>\n",
       "    </tr>\n",
       "    <tr>\n",
       "      <th>3</th>\n",
       "      <td>Adriano</td>\n",
       "      <td>1988-07-11</td>\n",
       "      <td>m</td>\n",
       "      <td>1.80</td>\n",
       "      <td>0</td>\n",
       "      <td>Segunda</td>\n",
       "      <td>0</td>\n",
       "    </tr>\n",
       "    <tr>\n",
       "      <th>4</th>\n",
       "      <td>Laís</td>\n",
       "      <td>1990-11-08</td>\n",
       "      <td>f</td>\n",
       "      <td>1.68</td>\n",
       "      <td>3</td>\n",
       "      <td>Quinta</td>\n",
       "      <td>3</td>\n",
       "    </tr>\n",
       "    <tr>\n",
       "      <th>5</th>\n",
       "      <td>Felipe</td>\n",
       "      <td>1981-07-02</td>\n",
       "      <td>m</td>\n",
       "      <td>1.74</td>\n",
       "      <td>3</td>\n",
       "      <td>Quinta</td>\n",
       "      <td>3</td>\n",
       "    </tr>\n",
       "    <tr>\n",
       "      <th>6</th>\n",
       "      <td>Cid</td>\n",
       "      <td>1967-06-08</td>\n",
       "      <td>m</td>\n",
       "      <td>1.75</td>\n",
       "      <td>3</td>\n",
       "      <td>Quinta</td>\n",
       "      <td>3</td>\n",
       "    </tr>\n",
       "    <tr>\n",
       "      <th>7</th>\n",
       "      <td>Mauricio</td>\n",
       "      <td>1945-04-14</td>\n",
       "      <td>f</td>\n",
       "      <td>1.72</td>\n",
       "      <td>5</td>\n",
       "      <td>Sábado</td>\n",
       "      <td>5</td>\n",
       "    </tr>\n",
       "    <tr>\n",
       "      <th>8</th>\n",
       "      <td>Daniel Garcia</td>\n",
       "      <td>1976-06-19</td>\n",
       "      <td>m</td>\n",
       "      <td>1.69</td>\n",
       "      <td>5</td>\n",
       "      <td>Sábado</td>\n",
       "      <td>5</td>\n",
       "    </tr>\n",
       "    <tr>\n",
       "      <th>9</th>\n",
       "      <td>Alexandre</td>\n",
       "      <td>1986-11-09</td>\n",
       "      <td>m</td>\n",
       "      <td>1.75</td>\n",
       "      <td>6</td>\n",
       "      <td>Domingo</td>\n",
       "      <td>6</td>\n",
       "    </tr>\n",
       "    <tr>\n",
       "      <th>10</th>\n",
       "      <td>Edson</td>\n",
       "      <td>1956-01-08</td>\n",
       "      <td>m</td>\n",
       "      <td>1.76</td>\n",
       "      <td>6</td>\n",
       "      <td>Domingo</td>\n",
       "      <td>6</td>\n",
       "    </tr>\n",
       "    <tr>\n",
       "      <th>11</th>\n",
       "      <td>Gustavo Leão</td>\n",
       "      <td>1989-12-12</td>\n",
       "      <td>m</td>\n",
       "      <td>1.93</td>\n",
       "      <td>1</td>\n",
       "      <td>Terça</td>\n",
       "      <td>1</td>\n",
       "    </tr>\n",
       "  </tbody>\n",
       "</table>\n",
       "</div>"
      ],
      "text/plain": [
       "             Nome       Data sexo  altura  dia_da_semana_x dia_da_semana_y  \\\n",
       "0          Susana 1994-04-27    f    1.77                2          Quarta   \n",
       "1          Daniel 1993-10-11    f    1.82                0         Segunda   \n",
       "2   Danila Moreno 1987-08-31    F    1.55                0         Segunda   \n",
       "3         Adriano 1988-07-11    m    1.80                0         Segunda   \n",
       "4            Laís 1990-11-08    f    1.68                3          Quinta   \n",
       "5          Felipe 1981-07-02    m    1.74                3          Quinta   \n",
       "6             Cid 1967-06-08    m    1.75                3          Quinta   \n",
       "7        Mauricio 1945-04-14    f    1.72                5          Sábado   \n",
       "8   Daniel Garcia 1976-06-19    m    1.69                5          Sábado   \n",
       "9       Alexandre 1986-11-09    m    1.75                6         Domingo   \n",
       "10          Edson 1956-01-08    m    1.76                6         Domingo   \n",
       "11   Gustavo Leão 1989-12-12    m    1.93                1           Terça   \n",
       "\n",
       "    numero  \n",
       "0        2  \n",
       "1        0  \n",
       "2        0  \n",
       "3        0  \n",
       "4        3  \n",
       "5        3  \n",
       "6        3  \n",
       "7        5  \n",
       "8        5  \n",
       "9        6  \n",
       "10       6  \n",
       "11       1  "
      ]
     },
     "execution_count": 57,
     "metadata": {},
     "output_type": "execute_result"
    }
   ],
   "source": [
    "# Juntar os dataframes pelo campos dia_da_semana = numero\n",
    "pandas.merge(alunos, dataframe_dias_da_semana, left_on=\"dia_da_semana\", right_on=\"numero\",how=\"inner\")"
   ]
  },
  {
   "cell_type": "markdown",
   "metadata": {},
   "source": [
    "![join](http://www.dofactory.com/Images/sql-joins.png)"
   ]
  },
  {
   "cell_type": "markdown",
   "metadata": {},
   "source": [
    "<b style = \"color:blue\">\n",
    "Exercício final:\n",
    "\n",
    "1\\. Criar uma dataframe que tenha uma coluna com categorias de altura e outra com a descrição.\n",
    "\n",
    "| categorai | descricao |\n",
    "|-----------|-----------|\n",
    "| 1         | 1.5 - 1.6 |\n",
    "| 2         | 1.6 - 1.7 |\n",
    "| 3         | 1.7 - 1.8 |\n",
    "| 4         | 1.8 - 1.9 |\n",
    "| 5         | 1.9 - 2   |\n",
    "\n",
    "2\\. Categorizar as alturas dos alunos, assumindo o range de 1.5m até 2m.\n",
    "\n",
    "| Nome   | altura | ... | categoria |\n",
    "|--------|--------|-----|-----------|\n",
    "| Susana | 1.77   | ... | 3         |\n",
    "\n",
    "\n",
    "3\\. Juntar as tabelas de maneira cada linha tenha as informações dos alunos e a descrição da categoria de altura.\n",
    "\n",
    "| Nome   | altura | ... | categoria | descricao |\n",
    "|--------|--------|-----|-----------|-----------|\n",
    "| Susana | 1.77   | ... | 3         | 1.7 - 1.8 |\n",
    "| null   | null   | ... | 1         | 1.5 - 1.6 |\n",
    "| null   | null   | ... | 2         | 1.6 - 1.7 |\n",
    "| null   | null   | ..  | 4         | 1.8 - 1.9 |\n",
    "| null   | null   | ... | 5         | 1.9 - 2.0 |\n",
    "\n",
    "</b>"
   ]
  },
  {
   "cell_type": "code",
   "execution_count": null,
   "metadata": {
    "collapsed": true
   },
   "outputs": [],
   "source": []
  },
  {
   "cell_type": "code",
   "execution_count": null,
   "metadata": {
    "collapsed": true
   },
   "outputs": [],
   "source": []
  },
  {
   "cell_type": "code",
   "execution_count": null,
   "metadata": {
    "collapsed": true
   },
   "outputs": [],
   "source": []
  },
  {
   "cell_type": "code",
   "execution_count": null,
   "metadata": {
    "collapsed": true
   },
   "outputs": [],
   "source": []
  }
 ],
 "metadata": {
  "hide_code_all_hidden": false,
  "kernelspec": {
   "display_name": "Python 3",
   "language": "python",
   "name": "python3"
  },
  "language_info": {
   "codemirror_mode": {
    "name": "ipython",
    "version": 3
   },
   "file_extension": ".py",
   "mimetype": "text/x-python",
   "name": "python",
   "nbconvert_exporter": "python",
   "pygments_lexer": "ipython3",
   "version": "3.6.3"
  }
 },
 "nbformat": 4,
 "nbformat_minor": 2
}
